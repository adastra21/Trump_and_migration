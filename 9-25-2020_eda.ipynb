{
 "cells": [
  {
   "cell_type": "code",
   "execution_count": 1,
   "metadata": {},
   "outputs": [],
   "source": [
    "import numpy as np\n",
    "import pandas as pd"
   ]
  },
  {
   "cell_type": "markdown",
   "metadata": {},
   "source": [
    "### Main dataset"
   ]
  },
  {
   "cell_type": "code",
   "execution_count": 4,
   "metadata": {
    "scrolled": true
   },
   "outputs": [],
   "source": [
    "df = pd.read_excel('data/v2 Census by county 2010.2016.xlsx')"
   ]
  },
  {
   "cell_type": "code",
   "execution_count": 5,
   "metadata": {},
   "outputs": [
    {
     "data": {
      "text/html": [
       "<div>\n",
       "<style scoped>\n",
       "    .dataframe tbody tr th:only-of-type {\n",
       "        vertical-align: middle;\n",
       "    }\n",
       "\n",
       "    .dataframe tbody tr th {\n",
       "        vertical-align: top;\n",
       "    }\n",
       "\n",
       "    .dataframe thead th {\n",
       "        text-align: right;\n",
       "    }\n",
       "</style>\n",
       "<table border=\"1\" class=\"dataframe\">\n",
       "  <thead>\n",
       "    <tr style=\"text-align: right;\">\n",
       "      <th></th>\n",
       "      <th>STNAME</th>\n",
       "      <th>CTYNAME</th>\n",
       "      <th>CENSUS2010POP</th>\n",
       "      <th>ESTIMATESBASE2010</th>\n",
       "      <th>POPESTIMATE2010</th>\n",
       "      <th>POPESTIMATE2011</th>\n",
       "      <th>POPESTIMATE2012</th>\n",
       "      <th>POPESTIMATE2013</th>\n",
       "      <th>POPESTIMATE2014</th>\n",
       "      <th>POPESTIMATE2015</th>\n",
       "      <th>...</th>\n",
       "      <th>RDOMESTICMIG2015</th>\n",
       "      <th>RDOMESTICMIG2016</th>\n",
       "      <th>RDOMESTICMIG2017</th>\n",
       "      <th>RNETMIG2011</th>\n",
       "      <th>RNETMIG2012</th>\n",
       "      <th>RNETMIG2013</th>\n",
       "      <th>RNETMIG2014</th>\n",
       "      <th>RNETMIG2015</th>\n",
       "      <th>RNETMIG2016</th>\n",
       "      <th>RNETMIG2017</th>\n",
       "    </tr>\n",
       "  </thead>\n",
       "  <tbody>\n",
       "    <tr>\n",
       "      <th>0</th>\n",
       "      <td>Alabama</td>\n",
       "      <td>Autauga County</td>\n",
       "      <td>54571</td>\n",
       "      <td>54571</td>\n",
       "      <td>54750</td>\n",
       "      <td>55199</td>\n",
       "      <td>54927</td>\n",
       "      <td>54695</td>\n",
       "      <td>54864</td>\n",
       "      <td>54838</td>\n",
       "      <td>...</td>\n",
       "      <td>-1.950739</td>\n",
       "      <td>4.831269</td>\n",
       "      <td>1.047102</td>\n",
       "      <td>5.911832</td>\n",
       "      <td>-6.102101</td>\n",
       "      <td>-4.050282</td>\n",
       "      <td>2.099325</td>\n",
       "      <td>-1.659040</td>\n",
       "      <td>5.103709</td>\n",
       "      <td>1.317904</td>\n",
       "    </tr>\n",
       "    <tr>\n",
       "      <th>1</th>\n",
       "      <td>Alabama</td>\n",
       "      <td>Baldwin County</td>\n",
       "      <td>182265</td>\n",
       "      <td>182265</td>\n",
       "      <td>183110</td>\n",
       "      <td>186534</td>\n",
       "      <td>190048</td>\n",
       "      <td>194736</td>\n",
       "      <td>199064</td>\n",
       "      <td>202863</td>\n",
       "      <td>...</td>\n",
       "      <td>17.047872</td>\n",
       "      <td>20.493601</td>\n",
       "      <td>22.383175</td>\n",
       "      <td>16.285940</td>\n",
       "      <td>17.196786</td>\n",
       "      <td>22.615285</td>\n",
       "      <td>20.380904</td>\n",
       "      <td>17.903749</td>\n",
       "      <td>21.317244</td>\n",
       "      <td>23.163873</td>\n",
       "    </tr>\n",
       "    <tr>\n",
       "      <th>2</th>\n",
       "      <td>Alabama</td>\n",
       "      <td>Barbour County</td>\n",
       "      <td>27457</td>\n",
       "      <td>27457</td>\n",
       "      <td>27332</td>\n",
       "      <td>27351</td>\n",
       "      <td>27175</td>\n",
       "      <td>26947</td>\n",
       "      <td>26749</td>\n",
       "      <td>26264</td>\n",
       "      <td>...</td>\n",
       "      <td>-16.222436</td>\n",
       "      <td>-18.755525</td>\n",
       "      <td>-19.042395</td>\n",
       "      <td>0.256021</td>\n",
       "      <td>-6.822433</td>\n",
       "      <td>-8.018920</td>\n",
       "      <td>-5.549762</td>\n",
       "      <td>-16.411069</td>\n",
       "      <td>-18.947692</td>\n",
       "      <td>-19.159940</td>\n",
       "    </tr>\n",
       "    <tr>\n",
       "      <th>3</th>\n",
       "      <td>Alabama</td>\n",
       "      <td>Bibb County</td>\n",
       "      <td>22915</td>\n",
       "      <td>22919</td>\n",
       "      <td>22872</td>\n",
       "      <td>22745</td>\n",
       "      <td>22658</td>\n",
       "      <td>22503</td>\n",
       "      <td>22533</td>\n",
       "      <td>22561</td>\n",
       "      <td>...</td>\n",
       "      <td>0.931388</td>\n",
       "      <td>-1.416117</td>\n",
       "      <td>-0.882983</td>\n",
       "      <td>-5.041980</td>\n",
       "      <td>-4.096646</td>\n",
       "      <td>-5.890038</td>\n",
       "      <td>1.243450</td>\n",
       "      <td>1.818424</td>\n",
       "      <td>-0.531044</td>\n",
       "      <td>0.000000</td>\n",
       "    </tr>\n",
       "    <tr>\n",
       "      <th>4</th>\n",
       "      <td>Alabama</td>\n",
       "      <td>Blount County</td>\n",
       "      <td>57322</td>\n",
       "      <td>57324</td>\n",
       "      <td>57381</td>\n",
       "      <td>57562</td>\n",
       "      <td>57595</td>\n",
       "      <td>57623</td>\n",
       "      <td>57546</td>\n",
       "      <td>57590</td>\n",
       "      <td>...</td>\n",
       "      <td>-1.563369</td>\n",
       "      <td>-1.736835</td>\n",
       "      <td>6.212416</td>\n",
       "      <td>0.243599</td>\n",
       "      <td>-1.354672</td>\n",
       "      <td>-0.486035</td>\n",
       "      <td>-1.771310</td>\n",
       "      <td>-0.538494</td>\n",
       "      <td>-0.659997</td>\n",
       "      <td>7.285313</td>\n",
       "    </tr>\n",
       "  </tbody>\n",
       "</table>\n",
       "<p>5 rows × 127 columns</p>\n",
       "</div>"
      ],
      "text/plain": [
       "    STNAME         CTYNAME  CENSUS2010POP  ESTIMATESBASE2010  POPESTIMATE2010  \\\n",
       "0  Alabama  Autauga County          54571              54571            54750   \n",
       "1  Alabama  Baldwin County         182265             182265           183110   \n",
       "2  Alabama  Barbour County          27457              27457            27332   \n",
       "3  Alabama     Bibb County          22915              22919            22872   \n",
       "4  Alabama   Blount County          57322              57324            57381   \n",
       "\n",
       "   POPESTIMATE2011  POPESTIMATE2012  POPESTIMATE2013  POPESTIMATE2014  \\\n",
       "0            55199            54927            54695            54864   \n",
       "1           186534           190048           194736           199064   \n",
       "2            27351            27175            26947            26749   \n",
       "3            22745            22658            22503            22533   \n",
       "4            57562            57595            57623            57546   \n",
       "\n",
       "   POPESTIMATE2015  ...  RDOMESTICMIG2015  RDOMESTICMIG2016  RDOMESTICMIG2017  \\\n",
       "0            54838  ...         -1.950739          4.831269          1.047102   \n",
       "1           202863  ...         17.047872         20.493601         22.383175   \n",
       "2            26264  ...        -16.222436        -18.755525        -19.042395   \n",
       "3            22561  ...          0.931388         -1.416117         -0.882983   \n",
       "4            57590  ...         -1.563369         -1.736835          6.212416   \n",
       "\n",
       "   RNETMIG2011  RNETMIG2012  RNETMIG2013  RNETMIG2014  RNETMIG2015  \\\n",
       "0     5.911832    -6.102101    -4.050282     2.099325    -1.659040   \n",
       "1    16.285940    17.196786    22.615285    20.380904    17.903749   \n",
       "2     0.256021    -6.822433    -8.018920    -5.549762   -16.411069   \n",
       "3    -5.041980    -4.096646    -5.890038     1.243450     1.818424   \n",
       "4     0.243599    -1.354672    -0.486035    -1.771310    -0.538494   \n",
       "\n",
       "   RNETMIG2016  RNETMIG2017  \n",
       "0     5.103709     1.317904  \n",
       "1    21.317244    23.163873  \n",
       "2   -18.947692   -19.159940  \n",
       "3    -0.531044     0.000000  \n",
       "4    -0.659997     7.285313  \n",
       "\n",
       "[5 rows x 127 columns]"
      ]
     },
     "execution_count": 5,
     "metadata": {},
     "output_type": "execute_result"
    }
   ],
   "source": [
    "df.head()"
   ]
  },
  {
   "cell_type": "code",
   "execution_count": 6,
   "metadata": {
    "scrolled": true
   },
   "outputs": [
    {
     "data": {
      "text/plain": [
       "Index(['STNAME', 'CTYNAME', 'CENSUS2010POP', 'ESTIMATESBASE2010',\n",
       "       'POPESTIMATE2010', 'POPESTIMATE2011', 'POPESTIMATE2012',\n",
       "       'POPESTIMATE2013', 'POPESTIMATE2014', 'POPESTIMATE2015',\n",
       "       ...\n",
       "       'RDOMESTICMIG2015', 'RDOMESTICMIG2016', 'RDOMESTICMIG2017',\n",
       "       'RNETMIG2011', 'RNETMIG2012', 'RNETMIG2013', 'RNETMIG2014',\n",
       "       'RNETMIG2015', 'RNETMIG2016', 'RNETMIG2017'],\n",
       "      dtype='object', length=127)"
      ]
     },
     "execution_count": 6,
     "metadata": {},
     "output_type": "execute_result"
    }
   ],
   "source": [
    "df.columns"
   ]
  },
  {
   "cell_type": "markdown",
   "metadata": {},
   "source": [
    "### Find counties with flight"
   ]
  },
  {
   "cell_type": "code",
   "execution_count": 7,
   "metadata": {},
   "outputs": [],
   "source": [
    "pop_growth = df[['STNAME', 'CTYNAME', 'RNATURALINC2011', 'RNATURALINC2012', 'RNATURALINC2013', 'RNATURALINC2014', 'RNATURALINC2015', 'RINTERNATIONALMIG2011', 'RINTERNATIONALMIG2012',\n",
    "       'RINTERNATIONALMIG2013', 'RINTERNATIONALMIG2014', 'RINTERNATIONALMIG2015', 'RDOMESTICMIG2011', 'RDOMESTICMIG2012', 'RDOMESTICMIG2013',\n",
    "       'RDOMESTICMIG2014', 'RDOMESTICMIG2015']].copy()"
   ]
  },
  {
   "cell_type": "code",
   "execution_count": 8,
   "metadata": {},
   "outputs": [
    {
     "data": {
      "text/plain": [
       "3143"
      ]
     },
     "execution_count": 8,
     "metadata": {},
     "output_type": "execute_result"
    }
   ],
   "source": [
    "len(pop_growth)"
   ]
  },
  {
   "cell_type": "code",
   "execution_count": 9,
   "metadata": {},
   "outputs": [
    {
     "data": {
      "text/html": [
       "<div>\n",
       "<style scoped>\n",
       "    .dataframe tbody tr th:only-of-type {\n",
       "        vertical-align: middle;\n",
       "    }\n",
       "\n",
       "    .dataframe tbody tr th {\n",
       "        vertical-align: top;\n",
       "    }\n",
       "\n",
       "    .dataframe thead th {\n",
       "        text-align: right;\n",
       "    }\n",
       "</style>\n",
       "<table border=\"1\" class=\"dataframe\">\n",
       "  <thead>\n",
       "    <tr style=\"text-align: right;\">\n",
       "      <th></th>\n",
       "      <th>STNAME</th>\n",
       "      <th>CTYNAME</th>\n",
       "      <th>RNATURALINC2011</th>\n",
       "      <th>RNATURALINC2012</th>\n",
       "      <th>RNATURALINC2013</th>\n",
       "      <th>RNATURALINC2014</th>\n",
       "      <th>RNATURALINC2015</th>\n",
       "      <th>RINTERNATIONALMIG2011</th>\n",
       "      <th>RINTERNATIONALMIG2012</th>\n",
       "      <th>RINTERNATIONALMIG2013</th>\n",
       "      <th>RINTERNATIONALMIG2014</th>\n",
       "      <th>RINTERNATIONALMIG2015</th>\n",
       "      <th>RDOMESTICMIG2011</th>\n",
       "      <th>RDOMESTICMIG2012</th>\n",
       "      <th>RDOMESTICMIG2013</th>\n",
       "      <th>RDOMESTICMIG2014</th>\n",
       "      <th>RDOMESTICMIG2015</th>\n",
       "    </tr>\n",
       "  </thead>\n",
       "  <tbody>\n",
       "    <tr>\n",
       "      <th>0</th>\n",
       "      <td>Alabama</td>\n",
       "      <td>Autauga County</td>\n",
       "      <td>2.346542</td>\n",
       "      <td>0.980695</td>\n",
       "      <td>-0.164201</td>\n",
       "      <td>1.150065</td>\n",
       "      <td>1.221491</td>\n",
       "      <td>0.000000</td>\n",
       "      <td>-0.272415</td>\n",
       "      <td>0.036489</td>\n",
       "      <td>0.237315</td>\n",
       "      <td>0.291699</td>\n",
       "      <td>5.911832</td>\n",
       "      <td>-5.829686</td>\n",
       "      <td>-4.086771</td>\n",
       "      <td>1.862010</td>\n",
       "      <td>-1.950739</td>\n",
       "    </tr>\n",
       "    <tr>\n",
       "      <th>1</th>\n",
       "      <td>Alabama</td>\n",
       "      <td>Baldwin County</td>\n",
       "      <td>1.964052</td>\n",
       "      <td>1.131228</td>\n",
       "      <td>1.335814</td>\n",
       "      <td>1.152869</td>\n",
       "      <td>0.826021</td>\n",
       "      <td>0.936036</td>\n",
       "      <td>0.786017</td>\n",
       "      <td>0.800449</td>\n",
       "      <td>0.716100</td>\n",
       "      <td>0.855877</td>\n",
       "      <td>15.349904</td>\n",
       "      <td>16.410768</td>\n",
       "      <td>21.814836</td>\n",
       "      <td>19.664804</td>\n",
       "      <td>17.047872</td>\n",
       "    </tr>\n",
       "    <tr>\n",
       "      <th>2</th>\n",
       "      <td>Alabama</td>\n",
       "      <td>Barbour County</td>\n",
       "      <td>0.585191</td>\n",
       "      <td>0.293438</td>\n",
       "      <td>-0.406489</td>\n",
       "      <td>-1.825089</td>\n",
       "      <td>-2.150416</td>\n",
       "      <td>-0.146298</td>\n",
       "      <td>-0.403477</td>\n",
       "      <td>-0.369535</td>\n",
       "      <td>-0.335221</td>\n",
       "      <td>-0.188633</td>\n",
       "      <td>0.402319</td>\n",
       "      <td>-6.418956</td>\n",
       "      <td>-7.649385</td>\n",
       "      <td>-5.214541</td>\n",
       "      <td>-16.222436</td>\n",
       "    </tr>\n",
       "    <tr>\n",
       "      <th>3</th>\n",
       "      <td>Alabama</td>\n",
       "      <td>Bibb County</td>\n",
       "      <td>-0.482276</td>\n",
       "      <td>0.264300</td>\n",
       "      <td>-1.062864</td>\n",
       "      <td>0.266454</td>\n",
       "      <td>-0.443518</td>\n",
       "      <td>0.438433</td>\n",
       "      <td>0.616699</td>\n",
       "      <td>0.620004</td>\n",
       "      <td>0.754952</td>\n",
       "      <td>0.887036</td>\n",
       "      <td>-5.480413</td>\n",
       "      <td>-4.713345</td>\n",
       "      <td>-6.510042</td>\n",
       "      <td>0.488498</td>\n",
       "      <td>0.931388</td>\n",
       "    </tr>\n",
       "    <tr>\n",
       "      <th>4</th>\n",
       "      <td>Alabama</td>\n",
       "      <td>Blount County</td>\n",
       "      <td>3.044988</td>\n",
       "      <td>2.066744</td>\n",
       "      <td>1.058862</td>\n",
       "      <td>0.555705</td>\n",
       "      <td>1.407032</td>\n",
       "      <td>-0.226199</td>\n",
       "      <td>0.364719</td>\n",
       "      <td>0.624902</td>\n",
       "      <td>0.955118</td>\n",
       "      <td>1.024875</td>\n",
       "      <td>0.469798</td>\n",
       "      <td>-1.719392</td>\n",
       "      <td>-1.110938</td>\n",
       "      <td>-2.726428</td>\n",
       "      <td>-1.563369</td>\n",
       "    </tr>\n",
       "  </tbody>\n",
       "</table>\n",
       "</div>"
      ],
      "text/plain": [
       "    STNAME         CTYNAME  RNATURALINC2011  RNATURALINC2012  RNATURALINC2013  \\\n",
       "0  Alabama  Autauga County         2.346542         0.980695        -0.164201   \n",
       "1  Alabama  Baldwin County         1.964052         1.131228         1.335814   \n",
       "2  Alabama  Barbour County         0.585191         0.293438        -0.406489   \n",
       "3  Alabama     Bibb County        -0.482276         0.264300        -1.062864   \n",
       "4  Alabama   Blount County         3.044988         2.066744         1.058862   \n",
       "\n",
       "   RNATURALINC2014  RNATURALINC2015  RINTERNATIONALMIG2011  \\\n",
       "0         1.150065         1.221491               0.000000   \n",
       "1         1.152869         0.826021               0.936036   \n",
       "2        -1.825089        -2.150416              -0.146298   \n",
       "3         0.266454        -0.443518               0.438433   \n",
       "4         0.555705         1.407032              -0.226199   \n",
       "\n",
       "   RINTERNATIONALMIG2012  RINTERNATIONALMIG2013  RINTERNATIONALMIG2014  \\\n",
       "0              -0.272415               0.036489               0.237315   \n",
       "1               0.786017               0.800449               0.716100   \n",
       "2              -0.403477              -0.369535              -0.335221   \n",
       "3               0.616699               0.620004               0.754952   \n",
       "4               0.364719               0.624902               0.955118   \n",
       "\n",
       "   RINTERNATIONALMIG2015  RDOMESTICMIG2011  RDOMESTICMIG2012  \\\n",
       "0               0.291699          5.911832         -5.829686   \n",
       "1               0.855877         15.349904         16.410768   \n",
       "2              -0.188633          0.402319         -6.418956   \n",
       "3               0.887036         -5.480413         -4.713345   \n",
       "4               1.024875          0.469798         -1.719392   \n",
       "\n",
       "   RDOMESTICMIG2013  RDOMESTICMIG2014  RDOMESTICMIG2015  \n",
       "0         -4.086771          1.862010         -1.950739  \n",
       "1         21.814836         19.664804         17.047872  \n",
       "2         -7.649385         -5.214541        -16.222436  \n",
       "3         -6.510042          0.488498          0.931388  \n",
       "4         -1.110938         -2.726428         -1.563369  "
      ]
     },
     "execution_count": 9,
     "metadata": {},
     "output_type": "execute_result"
    }
   ],
   "source": [
    "pop_growth.head()"
   ]
  },
  {
   "cell_type": "code",
   "execution_count": 10,
   "metadata": {},
   "outputs": [],
   "source": [
    "pop_growth = pop_growth.transpose()"
   ]
  },
  {
   "cell_type": "code",
   "execution_count": 11,
   "metadata": {
    "scrolled": false
   },
   "outputs": [],
   "source": [
    "# goal: predict result in 2016 elections\n",
    "\n",
    "# %age change in rate of natural increase\n",
    "means_rni = pop_growth.iloc[2:7,].pct_change().replace([np.inf, -np.inf], np.nan).mean()\n",
    "means_rni.name = 'Avg %Change in Natural Inc'\n",
    "pop_growth = pop_growth.append(means_rni, ignore_index=False)\n",
    "\n",
    "# %age change in int'l migration\n",
    "means_imig = pop_growth.iloc[7:12,].pct_change().replace([np.inf, -np.inf], np.nan).mean()\n",
    "means_imig.name = 'Avg %Change in Intl Migration'\n",
    "pop_growth = pop_growth.append(means_imig, ignore_index=False)\n",
    "\n",
    "# %age change in domestic migration\n",
    "means_domig = pop_growth.iloc[12:-1,].pct_change().replace([np.inf, -np.inf], np.nan).mean()\n",
    "means_domig.name = 'Avg %Change in Domestic Migration'\n",
    "pop_growth = pop_growth.append(means_domig, ignore_index=False)"
   ]
  },
  {
   "cell_type": "code",
   "execution_count": 12,
   "metadata": {},
   "outputs": [],
   "source": [
    "pop_growth = pop_growth.transpose()"
   ]
  },
  {
   "cell_type": "code",
   "execution_count": 13,
   "metadata": {},
   "outputs": [],
   "source": [
    "# find counties with domestic flight\n",
    "pop_growth['dom_flight'] = np.where(pop_growth['Avg %Change in Domestic Migration'] <= 0, 1, 0)"
   ]
  },
  {
   "cell_type": "code",
   "execution_count": 14,
   "metadata": {},
   "outputs": [],
   "source": [
    "pd.set_option('display.max_rows', 50)\n",
    "pd.set_option('display.max_columns', 25)"
   ]
  },
  {
   "cell_type": "code",
   "execution_count": 15,
   "metadata": {
    "scrolled": true
   },
   "outputs": [],
   "source": [
    "# domestic flight w intl flight\n",
    "pop_growth['dom & intl'] = np.where((pop_growth['dom_flight'] == 1) & (pop_growth['Avg %Change in Intl Migration'] <= 0), 1, 0)\n",
    "\n",
    "# domestic flight w intl replacement\n",
    "pop_growth['dom only'] = np.where((pop_growth['dom_flight'] == 1) & (pop_growth['Avg %Change in Intl Migration'] > 0), 1, 0)"
   ]
  },
  {
   "cell_type": "code",
   "execution_count": 16,
   "metadata": {},
   "outputs": [
    {
     "data": {
      "text/html": [
       "<div>\n",
       "<style scoped>\n",
       "    .dataframe tbody tr th:only-of-type {\n",
       "        vertical-align: middle;\n",
       "    }\n",
       "\n",
       "    .dataframe tbody tr th {\n",
       "        vertical-align: top;\n",
       "    }\n",
       "\n",
       "    .dataframe thead th {\n",
       "        text-align: right;\n",
       "    }\n",
       "</style>\n",
       "<table border=\"1\" class=\"dataframe\">\n",
       "  <thead>\n",
       "    <tr style=\"text-align: right;\">\n",
       "      <th></th>\n",
       "      <th>STNAME</th>\n",
       "      <th>CTYNAME</th>\n",
       "      <th>RNATURALINC2011</th>\n",
       "      <th>RNATURALINC2012</th>\n",
       "      <th>RNATURALINC2013</th>\n",
       "      <th>RNATURALINC2014</th>\n",
       "      <th>RNATURALINC2015</th>\n",
       "      <th>RINTERNATIONALMIG2011</th>\n",
       "      <th>RINTERNATIONALMIG2012</th>\n",
       "      <th>RINTERNATIONALMIG2013</th>\n",
       "      <th>RINTERNATIONALMIG2014</th>\n",
       "      <th>RINTERNATIONALMIG2015</th>\n",
       "      <th>RDOMESTICMIG2011</th>\n",
       "      <th>RDOMESTICMIG2012</th>\n",
       "      <th>RDOMESTICMIG2013</th>\n",
       "      <th>RDOMESTICMIG2014</th>\n",
       "      <th>RDOMESTICMIG2015</th>\n",
       "      <th>Avg %Change in Natural Inc</th>\n",
       "      <th>Avg %Change in Intl Migration</th>\n",
       "      <th>Avg %Change in Domestic Migration</th>\n",
       "      <th>dom_flight</th>\n",
       "      <th>dom &amp; intl</th>\n",
       "      <th>dom only</th>\n",
       "    </tr>\n",
       "  </thead>\n",
       "  <tbody>\n",
       "    <tr>\n",
       "      <th>0</th>\n",
       "      <td>Alabama</td>\n",
       "      <td>Autauga County</td>\n",
       "      <td>2.34654</td>\n",
       "      <td>0.980695</td>\n",
       "      <td>-0.164201</td>\n",
       "      <td>1.15007</td>\n",
       "      <td>1.22149</td>\n",
       "      <td>0</td>\n",
       "      <td>-0.272415</td>\n",
       "      <td>0.036489</td>\n",
       "      <td>0.237315</td>\n",
       "      <td>0.291699</td>\n",
       "      <td>5.91183</td>\n",
       "      <td>-5.82969</td>\n",
       "      <td>-4.08677</td>\n",
       "      <td>1.86201</td>\n",
       "      <td>-1.95074</td>\n",
       "      <td>-2.42286</td>\n",
       "      <td>1.53299</td>\n",
       "      <td>-1.10927</td>\n",
       "      <td>1</td>\n",
       "      <td>0</td>\n",
       "      <td>1</td>\n",
       "    </tr>\n",
       "    <tr>\n",
       "      <th>1</th>\n",
       "      <td>Alabama</td>\n",
       "      <td>Baldwin County</td>\n",
       "      <td>1.96405</td>\n",
       "      <td>1.13123</td>\n",
       "      <td>1.33581</td>\n",
       "      <td>1.15287</td>\n",
       "      <td>0.826021</td>\n",
       "      <td>0.936036</td>\n",
       "      <td>0.786017</td>\n",
       "      <td>0.800449</td>\n",
       "      <td>0.7161</td>\n",
       "      <td>0.855877</td>\n",
       "      <td>15.3499</td>\n",
       "      <td>16.4108</td>\n",
       "      <td>21.8148</td>\n",
       "      <td>19.6648</td>\n",
       "      <td>17.0479</td>\n",
       "      <td>-0.165911</td>\n",
       "      <td>-0.0130237</td>\n",
       "      <td>-0.168591</td>\n",
       "      <td>1</td>\n",
       "      <td>1</td>\n",
       "      <td>0</td>\n",
       "    </tr>\n",
       "    <tr>\n",
       "      <th>2</th>\n",
       "      <td>Alabama</td>\n",
       "      <td>Barbour County</td>\n",
       "      <td>0.585191</td>\n",
       "      <td>0.293438</td>\n",
       "      <td>-0.406489</td>\n",
       "      <td>-1.82509</td>\n",
       "      <td>-2.15042</td>\n",
       "      <td>-0.146298</td>\n",
       "      <td>-0.403477</td>\n",
       "      <td>-0.369535</td>\n",
       "      <td>-0.335221</td>\n",
       "      <td>-0.188633</td>\n",
       "      <td>0.402319</td>\n",
       "      <td>-6.41896</td>\n",
       "      <td>-7.64938</td>\n",
       "      <td>-5.21454</td>\n",
       "      <td>-16.2224</td>\n",
       "      <td>0.196079</td>\n",
       "      <td>0.285912</td>\n",
       "      <td>-3.19652</td>\n",
       "      <td>1</td>\n",
       "      <td>0</td>\n",
       "      <td>1</td>\n",
       "    </tr>\n",
       "    <tr>\n",
       "      <th>3</th>\n",
       "      <td>Alabama</td>\n",
       "      <td>Bibb County</td>\n",
       "      <td>-0.482276</td>\n",
       "      <td>0.2643</td>\n",
       "      <td>-1.06286</td>\n",
       "      <td>0.266454</td>\n",
       "      <td>-0.443518</td>\n",
       "      <td>0.438433</td>\n",
       "      <td>0.616699</td>\n",
       "      <td>0.620004</td>\n",
       "      <td>0.754952</td>\n",
       "      <td>0.887036</td>\n",
       "      <td>-5.48041</td>\n",
       "      <td>-4.71334</td>\n",
       "      <td>-6.51004</td>\n",
       "      <td>0.488498</td>\n",
       "      <td>0.931388</td>\n",
       "      <td>-2.62117</td>\n",
       "      <td>0.201143</td>\n",
       "      <td>-0.748287</td>\n",
       "      <td>1</td>\n",
       "      <td>0</td>\n",
       "      <td>1</td>\n",
       "    </tr>\n",
       "    <tr>\n",
       "      <th>4</th>\n",
       "      <td>Alabama</td>\n",
       "      <td>Blount County</td>\n",
       "      <td>3.04499</td>\n",
       "      <td>2.06674</td>\n",
       "      <td>1.05886</td>\n",
       "      <td>0.555705</td>\n",
       "      <td>1.40703</td>\n",
       "      <td>-0.226199</td>\n",
       "      <td>0.364719</td>\n",
       "      <td>0.624902</td>\n",
       "      <td>0.955118</td>\n",
       "      <td>1.02487</td>\n",
       "      <td>0.469798</td>\n",
       "      <td>-1.71939</td>\n",
       "      <td>-1.11094</td>\n",
       "      <td>-2.72643</td>\n",
       "      <td>-1.56337</td>\n",
       "      <td>0.0619647</td>\n",
       "      <td>-0.324386</td>\n",
       "      <td>-1.00516</td>\n",
       "      <td>1</td>\n",
       "      <td>1</td>\n",
       "      <td>0</td>\n",
       "    </tr>\n",
       "  </tbody>\n",
       "</table>\n",
       "</div>"
      ],
      "text/plain": [
       "    STNAME         CTYNAME RNATURALINC2011 RNATURALINC2012 RNATURALINC2013  \\\n",
       "0  Alabama  Autauga County         2.34654        0.980695       -0.164201   \n",
       "1  Alabama  Baldwin County         1.96405         1.13123         1.33581   \n",
       "2  Alabama  Barbour County        0.585191        0.293438       -0.406489   \n",
       "3  Alabama     Bibb County       -0.482276          0.2643        -1.06286   \n",
       "4  Alabama   Blount County         3.04499         2.06674         1.05886   \n",
       "\n",
       "  RNATURALINC2014 RNATURALINC2015 RINTERNATIONALMIG2011 RINTERNATIONALMIG2012  \\\n",
       "0         1.15007         1.22149                     0             -0.272415   \n",
       "1         1.15287        0.826021              0.936036              0.786017   \n",
       "2        -1.82509        -2.15042             -0.146298             -0.403477   \n",
       "3        0.266454       -0.443518              0.438433              0.616699   \n",
       "4        0.555705         1.40703             -0.226199              0.364719   \n",
       "\n",
       "  RINTERNATIONALMIG2013 RINTERNATIONALMIG2014 RINTERNATIONALMIG2015  \\\n",
       "0              0.036489              0.237315              0.291699   \n",
       "1              0.800449                0.7161              0.855877   \n",
       "2             -0.369535             -0.335221             -0.188633   \n",
       "3              0.620004              0.754952              0.887036   \n",
       "4              0.624902              0.955118               1.02487   \n",
       "\n",
       "  RDOMESTICMIG2011 RDOMESTICMIG2012 RDOMESTICMIG2013 RDOMESTICMIG2014  \\\n",
       "0          5.91183         -5.82969         -4.08677          1.86201   \n",
       "1          15.3499          16.4108          21.8148          19.6648   \n",
       "2         0.402319         -6.41896         -7.64938         -5.21454   \n",
       "3         -5.48041         -4.71334         -6.51004         0.488498   \n",
       "4         0.469798         -1.71939         -1.11094         -2.72643   \n",
       "\n",
       "  RDOMESTICMIG2015 Avg %Change in Natural Inc Avg %Change in Intl Migration  \\\n",
       "0         -1.95074                   -2.42286                       1.53299   \n",
       "1          17.0479                  -0.165911                    -0.0130237   \n",
       "2         -16.2224                   0.196079                      0.285912   \n",
       "3         0.931388                   -2.62117                      0.201143   \n",
       "4         -1.56337                  0.0619647                     -0.324386   \n",
       "\n",
       "  Avg %Change in Domestic Migration  dom_flight  dom & intl  dom only  \n",
       "0                          -1.10927           1           0         1  \n",
       "1                         -0.168591           1           1         0  \n",
       "2                          -3.19652           1           0         1  \n",
       "3                         -0.748287           1           0         1  \n",
       "4                          -1.00516           1           1         0  "
      ]
     },
     "execution_count": 16,
     "metadata": {},
     "output_type": "execute_result"
    }
   ],
   "source": [
    "pop_growth.head()"
   ]
  },
  {
   "cell_type": "markdown",
   "metadata": {},
   "source": [
    "### Add Votes in 2016 elections"
   ]
  },
  {
   "cell_type": "code",
   "execution_count": 17,
   "metadata": {},
   "outputs": [],
   "source": [
    "votes = pd.read_csv('data/2016_US_County_Level_Presidential_Results.csv')"
   ]
  },
  {
   "cell_type": "code",
   "execution_count": 18,
   "metadata": {},
   "outputs": [
    {
     "data": {
      "text/html": [
       "<div>\n",
       "<style scoped>\n",
       "    .dataframe tbody tr th:only-of-type {\n",
       "        vertical-align: middle;\n",
       "    }\n",
       "\n",
       "    .dataframe tbody tr th {\n",
       "        vertical-align: top;\n",
       "    }\n",
       "\n",
       "    .dataframe thead th {\n",
       "        text-align: right;\n",
       "    }\n",
       "</style>\n",
       "<table border=\"1\" class=\"dataframe\">\n",
       "  <thead>\n",
       "    <tr style=\"text-align: right;\">\n",
       "      <th></th>\n",
       "      <th>votes_dem</th>\n",
       "      <th>votes_gop</th>\n",
       "      <th>total_votes</th>\n",
       "      <th>per_dem</th>\n",
       "      <th>per_gop</th>\n",
       "      <th>diff</th>\n",
       "      <th>per_point_diff</th>\n",
       "      <th>state_abbr</th>\n",
       "      <th>county_name</th>\n",
       "      <th>combined_fips</th>\n",
       "    </tr>\n",
       "  </thead>\n",
       "  <tbody>\n",
       "    <tr>\n",
       "      <th>0</th>\n",
       "      <td>93003</td>\n",
       "      <td>130413</td>\n",
       "      <td>246588</td>\n",
       "      <td>0.377159</td>\n",
       "      <td>0.52887</td>\n",
       "      <td>37,410</td>\n",
       "      <td>15.17%</td>\n",
       "      <td>AK</td>\n",
       "      <td>Alaska</td>\n",
       "      <td>2013</td>\n",
       "    </tr>\n",
       "    <tr>\n",
       "      <th>1</th>\n",
       "      <td>93003</td>\n",
       "      <td>130413</td>\n",
       "      <td>246588</td>\n",
       "      <td>0.377159</td>\n",
       "      <td>0.52887</td>\n",
       "      <td>37,410</td>\n",
       "      <td>15.17%</td>\n",
       "      <td>AK</td>\n",
       "      <td>Alaska</td>\n",
       "      <td>2016</td>\n",
       "    </tr>\n",
       "    <tr>\n",
       "      <th>2</th>\n",
       "      <td>93003</td>\n",
       "      <td>130413</td>\n",
       "      <td>246588</td>\n",
       "      <td>0.377159</td>\n",
       "      <td>0.52887</td>\n",
       "      <td>37,410</td>\n",
       "      <td>15.17%</td>\n",
       "      <td>AK</td>\n",
       "      <td>Alaska</td>\n",
       "      <td>2020</td>\n",
       "    </tr>\n",
       "    <tr>\n",
       "      <th>3</th>\n",
       "      <td>93003</td>\n",
       "      <td>130413</td>\n",
       "      <td>246588</td>\n",
       "      <td>0.377159</td>\n",
       "      <td>0.52887</td>\n",
       "      <td>37,410</td>\n",
       "      <td>15.17%</td>\n",
       "      <td>AK</td>\n",
       "      <td>Alaska</td>\n",
       "      <td>2050</td>\n",
       "    </tr>\n",
       "    <tr>\n",
       "      <th>4</th>\n",
       "      <td>93003</td>\n",
       "      <td>130413</td>\n",
       "      <td>246588</td>\n",
       "      <td>0.377159</td>\n",
       "      <td>0.52887</td>\n",
       "      <td>37,410</td>\n",
       "      <td>15.17%</td>\n",
       "      <td>AK</td>\n",
       "      <td>Alaska</td>\n",
       "      <td>2060</td>\n",
       "    </tr>\n",
       "  </tbody>\n",
       "</table>\n",
       "</div>"
      ],
      "text/plain": [
       "   votes_dem  votes_gop  total_votes   per_dem  per_gop    diff  \\\n",
       "0      93003     130413       246588  0.377159  0.52887  37,410   \n",
       "1      93003     130413       246588  0.377159  0.52887  37,410   \n",
       "2      93003     130413       246588  0.377159  0.52887  37,410   \n",
       "3      93003     130413       246588  0.377159  0.52887  37,410   \n",
       "4      93003     130413       246588  0.377159  0.52887  37,410   \n",
       "\n",
       "  per_point_diff state_abbr county_name  combined_fips  \n",
       "0         15.17%         AK      Alaska           2013  \n",
       "1         15.17%         AK      Alaska           2016  \n",
       "2         15.17%         AK      Alaska           2020  \n",
       "3         15.17%         AK      Alaska           2050  \n",
       "4         15.17%         AK      Alaska           2060  "
      ]
     },
     "execution_count": 18,
     "metadata": {},
     "output_type": "execute_result"
    }
   ],
   "source": [
    "votes.head()"
   ]
  },
  {
   "cell_type": "code",
   "execution_count": 19,
   "metadata": {},
   "outputs": [],
   "source": [
    "state_lookup = pd.read_csv('data/state_lookup.csv')"
   ]
  },
  {
   "cell_type": "code",
   "execution_count": 20,
   "metadata": {},
   "outputs": [],
   "source": [
    "votes = votes.merge(state_lookup)"
   ]
  },
  {
   "cell_type": "code",
   "execution_count": 21,
   "metadata": {},
   "outputs": [],
   "source": [
    "votes.drop(columns=['state_abbr', 'votes_dem', 'votes_gop', 'total_votes', 'combined_fips'], inplace=True)"
   ]
  },
  {
   "cell_type": "code",
   "execution_count": 22,
   "metadata": {
    "scrolled": true
   },
   "outputs": [
    {
     "data": {
      "text/html": [
       "<div>\n",
       "<style scoped>\n",
       "    .dataframe tbody tr th:only-of-type {\n",
       "        vertical-align: middle;\n",
       "    }\n",
       "\n",
       "    .dataframe tbody tr th {\n",
       "        vertical-align: top;\n",
       "    }\n",
       "\n",
       "    .dataframe thead th {\n",
       "        text-align: right;\n",
       "    }\n",
       "</style>\n",
       "<table border=\"1\" class=\"dataframe\">\n",
       "  <thead>\n",
       "    <tr style=\"text-align: right;\">\n",
       "      <th></th>\n",
       "      <th>per_dem</th>\n",
       "      <th>per_gop</th>\n",
       "      <th>diff</th>\n",
       "      <th>per_point_diff</th>\n",
       "      <th>county_name</th>\n",
       "      <th>state</th>\n",
       "    </tr>\n",
       "  </thead>\n",
       "  <tbody>\n",
       "    <tr>\n",
       "      <th>0</th>\n",
       "      <td>0.377159</td>\n",
       "      <td>0.52887</td>\n",
       "      <td>37,410</td>\n",
       "      <td>15.17%</td>\n",
       "      <td>Alaska</td>\n",
       "      <td>Alaska</td>\n",
       "    </tr>\n",
       "    <tr>\n",
       "      <th>1</th>\n",
       "      <td>0.377159</td>\n",
       "      <td>0.52887</td>\n",
       "      <td>37,410</td>\n",
       "      <td>15.17%</td>\n",
       "      <td>Alaska</td>\n",
       "      <td>Alaska</td>\n",
       "    </tr>\n",
       "    <tr>\n",
       "      <th>2</th>\n",
       "      <td>0.377159</td>\n",
       "      <td>0.52887</td>\n",
       "      <td>37,410</td>\n",
       "      <td>15.17%</td>\n",
       "      <td>Alaska</td>\n",
       "      <td>Alaska</td>\n",
       "    </tr>\n",
       "    <tr>\n",
       "      <th>3</th>\n",
       "      <td>0.377159</td>\n",
       "      <td>0.52887</td>\n",
       "      <td>37,410</td>\n",
       "      <td>15.17%</td>\n",
       "      <td>Alaska</td>\n",
       "      <td>Alaska</td>\n",
       "    </tr>\n",
       "    <tr>\n",
       "      <th>4</th>\n",
       "      <td>0.377159</td>\n",
       "      <td>0.52887</td>\n",
       "      <td>37,410</td>\n",
       "      <td>15.17%</td>\n",
       "      <td>Alaska</td>\n",
       "      <td>Alaska</td>\n",
       "    </tr>\n",
       "  </tbody>\n",
       "</table>\n",
       "</div>"
      ],
      "text/plain": [
       "    per_dem  per_gop    diff per_point_diff county_name   state\n",
       "0  0.377159  0.52887  37,410         15.17%      Alaska  Alaska\n",
       "1  0.377159  0.52887  37,410         15.17%      Alaska  Alaska\n",
       "2  0.377159  0.52887  37,410         15.17%      Alaska  Alaska\n",
       "3  0.377159  0.52887  37,410         15.17%      Alaska  Alaska\n",
       "4  0.377159  0.52887  37,410         15.17%      Alaska  Alaska"
      ]
     },
     "execution_count": 22,
     "metadata": {},
     "output_type": "execute_result"
    }
   ],
   "source": [
    "votes.head()"
   ]
  },
  {
   "cell_type": "code",
   "execution_count": 23,
   "metadata": {},
   "outputs": [
    {
     "data": {
      "text/plain": [
       "3143"
      ]
     },
     "execution_count": 23,
     "metadata": {},
     "output_type": "execute_result"
    }
   ],
   "source": [
    "len(pop_growth)"
   ]
  },
  {
   "cell_type": "code",
   "execution_count": 24,
   "metadata": {},
   "outputs": [
    {
     "data": {
      "text/plain": [
       "3141"
      ]
     },
     "execution_count": 24,
     "metadata": {},
     "output_type": "execute_result"
    }
   ],
   "source": [
    "len(votes)"
   ]
  },
  {
   "cell_type": "code",
   "execution_count": 25,
   "metadata": {
    "scrolled": true
   },
   "outputs": [],
   "source": [
    "data = pop_growth.merge(votes, right_on=['state', 'county_name'], left_on=['STNAME', 'CTYNAME'], how='left')"
   ]
  },
  {
   "cell_type": "code",
   "execution_count": 26,
   "metadata": {},
   "outputs": [
    {
     "data": {
      "text/plain": [
       "3143"
      ]
     },
     "execution_count": 26,
     "metadata": {},
     "output_type": "execute_result"
    }
   ],
   "source": [
    "len(data)"
   ]
  },
  {
   "cell_type": "code",
   "execution_count": 27,
   "metadata": {},
   "outputs": [
    {
     "data": {
      "text/plain": [
       "Alaska          29\n",
       "New Mexico       1\n",
       "Hawaii           1\n",
       "Louisiana        1\n",
       "South Dakota     1\n",
       "Name: STNAME, dtype: int64"
      ]
     },
     "execution_count": 27,
     "metadata": {},
     "output_type": "execute_result"
    }
   ],
   "source": [
    "# ignore\n",
    "data[data['diff'].isna()]['STNAME'].value_counts()"
   ]
  },
  {
   "cell_type": "code",
   "execution_count": 28,
   "metadata": {},
   "outputs": [],
   "source": [
    "data = data[~data['diff'].isna()].copy()"
   ]
  },
  {
   "cell_type": "code",
   "execution_count": 29,
   "metadata": {},
   "outputs": [
    {
     "data": {
      "text/html": [
       "<div>\n",
       "<style scoped>\n",
       "    .dataframe tbody tr th:only-of-type {\n",
       "        vertical-align: middle;\n",
       "    }\n",
       "\n",
       "    .dataframe tbody tr th {\n",
       "        vertical-align: top;\n",
       "    }\n",
       "\n",
       "    .dataframe thead th {\n",
       "        text-align: right;\n",
       "    }\n",
       "</style>\n",
       "<table border=\"1\" class=\"dataframe\">\n",
       "  <thead>\n",
       "    <tr style=\"text-align: right;\">\n",
       "      <th></th>\n",
       "      <th>STNAME</th>\n",
       "      <th>CTYNAME</th>\n",
       "      <th>RNATURALINC2011</th>\n",
       "      <th>RNATURALINC2012</th>\n",
       "      <th>RNATURALINC2013</th>\n",
       "      <th>RNATURALINC2014</th>\n",
       "      <th>RNATURALINC2015</th>\n",
       "      <th>RINTERNATIONALMIG2011</th>\n",
       "      <th>RINTERNATIONALMIG2012</th>\n",
       "      <th>RINTERNATIONALMIG2013</th>\n",
       "      <th>RINTERNATIONALMIG2014</th>\n",
       "      <th>RINTERNATIONALMIG2015</th>\n",
       "      <th>...</th>\n",
       "      <th>Avg %Change in Natural Inc</th>\n",
       "      <th>Avg %Change in Intl Migration</th>\n",
       "      <th>Avg %Change in Domestic Migration</th>\n",
       "      <th>dom_flight</th>\n",
       "      <th>dom &amp; intl</th>\n",
       "      <th>dom only</th>\n",
       "      <th>per_dem</th>\n",
       "      <th>per_gop</th>\n",
       "      <th>diff</th>\n",
       "      <th>per_point_diff</th>\n",
       "      <th>county_name</th>\n",
       "      <th>state</th>\n",
       "    </tr>\n",
       "  </thead>\n",
       "  <tbody>\n",
       "    <tr>\n",
       "      <th>0</th>\n",
       "      <td>Alabama</td>\n",
       "      <td>Autauga County</td>\n",
       "      <td>2.34654</td>\n",
       "      <td>0.980695</td>\n",
       "      <td>-0.164201</td>\n",
       "      <td>1.15007</td>\n",
       "      <td>1.22149</td>\n",
       "      <td>0</td>\n",
       "      <td>-0.272415</td>\n",
       "      <td>0.036489</td>\n",
       "      <td>0.237315</td>\n",
       "      <td>0.291699</td>\n",
       "      <td>...</td>\n",
       "      <td>-2.42286</td>\n",
       "      <td>1.53299</td>\n",
       "      <td>-1.10927</td>\n",
       "      <td>1</td>\n",
       "      <td>0</td>\n",
       "      <td>1</td>\n",
       "      <td>0.239569</td>\n",
       "      <td>0.734358</td>\n",
       "      <td>12,202</td>\n",
       "      <td>49.48%</td>\n",
       "      <td>Autauga County</td>\n",
       "      <td>Alabama</td>\n",
       "    </tr>\n",
       "    <tr>\n",
       "      <th>1</th>\n",
       "      <td>Alabama</td>\n",
       "      <td>Baldwin County</td>\n",
       "      <td>1.96405</td>\n",
       "      <td>1.13123</td>\n",
       "      <td>1.33581</td>\n",
       "      <td>1.15287</td>\n",
       "      <td>0.826021</td>\n",
       "      <td>0.936036</td>\n",
       "      <td>0.786017</td>\n",
       "      <td>0.800449</td>\n",
       "      <td>0.7161</td>\n",
       "      <td>0.855877</td>\n",
       "      <td>...</td>\n",
       "      <td>-0.165911</td>\n",
       "      <td>-0.0130237</td>\n",
       "      <td>-0.168591</td>\n",
       "      <td>1</td>\n",
       "      <td>1</td>\n",
       "      <td>0</td>\n",
       "      <td>0.195653</td>\n",
       "      <td>0.773515</td>\n",
       "      <td>54,371</td>\n",
       "      <td>57.79%</td>\n",
       "      <td>Baldwin County</td>\n",
       "      <td>Alabama</td>\n",
       "    </tr>\n",
       "    <tr>\n",
       "      <th>2</th>\n",
       "      <td>Alabama</td>\n",
       "      <td>Barbour County</td>\n",
       "      <td>0.585191</td>\n",
       "      <td>0.293438</td>\n",
       "      <td>-0.406489</td>\n",
       "      <td>-1.82509</td>\n",
       "      <td>-2.15042</td>\n",
       "      <td>-0.146298</td>\n",
       "      <td>-0.403477</td>\n",
       "      <td>-0.369535</td>\n",
       "      <td>-0.335221</td>\n",
       "      <td>-0.188633</td>\n",
       "      <td>...</td>\n",
       "      <td>0.196079</td>\n",
       "      <td>0.285912</td>\n",
       "      <td>-3.19652</td>\n",
       "      <td>1</td>\n",
       "      <td>0</td>\n",
       "      <td>1</td>\n",
       "      <td>0.466603</td>\n",
       "      <td>0.522714</td>\n",
       "      <td>583</td>\n",
       "      <td>5.61%</td>\n",
       "      <td>Barbour County</td>\n",
       "      <td>Alabama</td>\n",
       "    </tr>\n",
       "    <tr>\n",
       "      <th>3</th>\n",
       "      <td>Alabama</td>\n",
       "      <td>Bibb County</td>\n",
       "      <td>-0.482276</td>\n",
       "      <td>0.2643</td>\n",
       "      <td>-1.06286</td>\n",
       "      <td>0.266454</td>\n",
       "      <td>-0.443518</td>\n",
       "      <td>0.438433</td>\n",
       "      <td>0.616699</td>\n",
       "      <td>0.620004</td>\n",
       "      <td>0.754952</td>\n",
       "      <td>0.887036</td>\n",
       "      <td>...</td>\n",
       "      <td>-2.62117</td>\n",
       "      <td>0.201143</td>\n",
       "      <td>-0.748287</td>\n",
       "      <td>1</td>\n",
       "      <td>0</td>\n",
       "      <td>1</td>\n",
       "      <td>0.214220</td>\n",
       "      <td>0.769662</td>\n",
       "      <td>4,859</td>\n",
       "      <td>55.54%</td>\n",
       "      <td>Bibb County</td>\n",
       "      <td>Alabama</td>\n",
       "    </tr>\n",
       "    <tr>\n",
       "      <th>4</th>\n",
       "      <td>Alabama</td>\n",
       "      <td>Blount County</td>\n",
       "      <td>3.04499</td>\n",
       "      <td>2.06674</td>\n",
       "      <td>1.05886</td>\n",
       "      <td>0.555705</td>\n",
       "      <td>1.40703</td>\n",
       "      <td>-0.226199</td>\n",
       "      <td>0.364719</td>\n",
       "      <td>0.624902</td>\n",
       "      <td>0.955118</td>\n",
       "      <td>1.02487</td>\n",
       "      <td>...</td>\n",
       "      <td>0.0619647</td>\n",
       "      <td>-0.324386</td>\n",
       "      <td>-1.00516</td>\n",
       "      <td>1</td>\n",
       "      <td>1</td>\n",
       "      <td>0</td>\n",
       "      <td>0.084699</td>\n",
       "      <td>0.898519</td>\n",
       "      <td>20,658</td>\n",
       "      <td>81.38%</td>\n",
       "      <td>Blount County</td>\n",
       "      <td>Alabama</td>\n",
       "    </tr>\n",
       "  </tbody>\n",
       "</table>\n",
       "<p>5 rows × 29 columns</p>\n",
       "</div>"
      ],
      "text/plain": [
       "    STNAME         CTYNAME RNATURALINC2011 RNATURALINC2012 RNATURALINC2013  \\\n",
       "0  Alabama  Autauga County         2.34654        0.980695       -0.164201   \n",
       "1  Alabama  Baldwin County         1.96405         1.13123         1.33581   \n",
       "2  Alabama  Barbour County        0.585191        0.293438       -0.406489   \n",
       "3  Alabama     Bibb County       -0.482276          0.2643        -1.06286   \n",
       "4  Alabama   Blount County         3.04499         2.06674         1.05886   \n",
       "\n",
       "  RNATURALINC2014 RNATURALINC2015 RINTERNATIONALMIG2011 RINTERNATIONALMIG2012  \\\n",
       "0         1.15007         1.22149                     0             -0.272415   \n",
       "1         1.15287        0.826021              0.936036              0.786017   \n",
       "2        -1.82509        -2.15042             -0.146298             -0.403477   \n",
       "3        0.266454       -0.443518              0.438433              0.616699   \n",
       "4        0.555705         1.40703             -0.226199              0.364719   \n",
       "\n",
       "  RINTERNATIONALMIG2013 RINTERNATIONALMIG2014 RINTERNATIONALMIG2015  ...  \\\n",
       "0              0.036489              0.237315              0.291699  ...   \n",
       "1              0.800449                0.7161              0.855877  ...   \n",
       "2             -0.369535             -0.335221             -0.188633  ...   \n",
       "3              0.620004              0.754952              0.887036  ...   \n",
       "4              0.624902              0.955118               1.02487  ...   \n",
       "\n",
       "  Avg %Change in Natural Inc Avg %Change in Intl Migration  \\\n",
       "0                   -2.42286                       1.53299   \n",
       "1                  -0.165911                    -0.0130237   \n",
       "2                   0.196079                      0.285912   \n",
       "3                   -2.62117                      0.201143   \n",
       "4                  0.0619647                     -0.324386   \n",
       "\n",
       "  Avg %Change in Domestic Migration dom_flight dom & intl dom only   per_dem  \\\n",
       "0                          -1.10927          1          0        1  0.239569   \n",
       "1                         -0.168591          1          1        0  0.195653   \n",
       "2                          -3.19652          1          0        1  0.466603   \n",
       "3                         -0.748287          1          0        1  0.214220   \n",
       "4                          -1.00516          1          1        0  0.084699   \n",
       "\n",
       "    per_gop    diff  per_point_diff     county_name    state  \n",
       "0  0.734358  12,202          49.48%  Autauga County  Alabama  \n",
       "1  0.773515  54,371          57.79%  Baldwin County  Alabama  \n",
       "2  0.522714     583           5.61%  Barbour County  Alabama  \n",
       "3  0.769662   4,859          55.54%     Bibb County  Alabama  \n",
       "4  0.898519  20,658          81.38%   Blount County  Alabama  \n",
       "\n",
       "[5 rows x 29 columns]"
      ]
     },
     "execution_count": 29,
     "metadata": {},
     "output_type": "execute_result"
    }
   ],
   "source": [
    "data.head()"
   ]
  },
  {
   "cell_type": "code",
   "execution_count": 30,
   "metadata": {
    "scrolled": true
   },
   "outputs": [],
   "source": [
    "data['diff'] = data['diff'].str.replace(',', '').astype(int)"
   ]
  },
  {
   "cell_type": "code",
   "execution_count": 31,
   "metadata": {
    "scrolled": true
   },
   "outputs": [],
   "source": [
    "data['per_point_diff'] = data['per_point_diff'].str.replace('%', '').astype(float)"
   ]
  },
  {
   "cell_type": "code",
   "execution_count": 32,
   "metadata": {},
   "outputs": [],
   "source": [
    "data['trump_vote'] = np.where(data['per_gop'] > data['per_dem'], 1, 0)"
   ]
  },
  {
   "cell_type": "code",
   "execution_count": 33,
   "metadata": {},
   "outputs": [
    {
     "data": {
      "text/plain": [
       "<matplotlib.axes._subplots.AxesSubplot at 0x11e5125c0>"
      ]
     },
     "execution_count": 33,
     "metadata": {},
     "output_type": "execute_result"
    },
    {
     "data": {
      "image/png": "[encoded data removed]",
      "text/plain": [
       "<Figure size 432x288 with 1 Axes>"
      ]
     },
     "metadata": {
      "needs_background": "light"
     },
     "output_type": "display_data"
    }
   ],
   "source": [
    "data['trump_vote'].hist()"
   ]
  },
  {
   "cell_type": "code",
   "execution_count": 34,
   "metadata": {},
   "outputs": [],
   "source": [
    "data['per_gap'] = data['per_gop'] - data['per_dem']"
   ]
  },
  {
   "cell_type": "code",
   "execution_count": 35,
   "metadata": {},
   "outputs": [
    {
     "data": {
      "text/plain": [
       "<matplotlib.axes._subplots.AxesSubplot at 0x11e5b3e48>"
      ]
     },
     "execution_count": 35,
     "metadata": {},
     "output_type": "execute_result"
    },
    {
     "data": {
      "image/png": "[encoded data removed]",
      "text/plain": [
       "<Figure size 432x288 with 1 Axes>"
      ]
     },
     "metadata": {
      "needs_background": "light"
     },
     "output_type": "display_data"
    }
   ],
   "source": [
    "data['per_gap'].hist()"
   ]
  },
  {
   "cell_type": "code",
   "execution_count": 36,
   "metadata": {},
   "outputs": [
    {
     "data": {
      "text/plain": [
       "count    3110.000000\n",
       "mean        0.319025\n",
       "std         0.308816\n",
       "min        -0.887245\n",
       "25%         0.148912\n",
       "50%         0.382174\n",
       "75%         0.546839\n",
       "max         0.916364\n",
       "Name: per_gap, dtype: float64"
      ]
     },
     "execution_count": 36,
     "metadata": {},
     "output_type": "execute_result"
    }
   ],
   "source": [
    "data['per_gap'].describe()"
   ]
  },
  {
   "cell_type": "markdown",
   "metadata": {},
   "source": [
    "## Data exploration"
   ]
  },
  {
   "cell_type": "markdown",
   "metadata": {},
   "source": [
    "### Counties with flight"
   ]
  },
  {
   "cell_type": "code",
   "execution_count": 37,
   "metadata": {},
   "outputs": [],
   "source": [
    "import matplotlib.pylab as plt\n",
    "import seaborn as sns"
   ]
  },
  {
   "cell_type": "code",
   "execution_count": 38,
   "metadata": {
    "scrolled": false
   },
   "outputs": [
    {
     "data": {
      "image/png": "[encoded data removed]",
      "text/plain": [
       "<Figure size 432x288 with 1 Axes>"
      ]
     },
     "metadata": {
      "needs_background": "light"
     },
     "output_type": "display_data"
    }
   ],
   "source": [
    "axes = plt.gca()\n",
    "axes.set_ylim([0,1])\n",
    "sns.boxplot(x='dom & intl', y='per_gap', data=data)\n",
    "plt.ylabel('Trump\\'s Victory Margin in \\n Percentage of Votes')\n",
    "plt.xticks([0,1], ['Counties \\n without Flight', 'Counties \\n with Flight'])\n",
    "plt.xlabel('')\n",
    "plt.title('Trump\\'s Victory Margin in Percentage of Votes \\n at County Level')\n",
    "plt.show()"
   ]
  },
  {
   "cell_type": "code",
   "execution_count": 39,
   "metadata": {},
   "outputs": [
    {
     "data": {
      "text/plain": [
       "dom & intl\n",
       "0    2021\n",
       "1     603\n",
       "Name: trump_vote, dtype: int64"
      ]
     },
     "execution_count": 39,
     "metadata": {},
     "output_type": "execute_result"
    }
   ],
   "source": [
    "data.groupby('dom & intl')['trump_vote'].sum()"
   ]
  },
  {
   "cell_type": "code",
   "execution_count": 40,
   "metadata": {},
   "outputs": [
    {
     "data": {
      "text/plain": [
       "0    2447\n",
       "1     663\n",
       "Name: dom & intl, dtype: int64"
      ]
     },
     "execution_count": 40,
     "metadata": {},
     "output_type": "execute_result"
    }
   ],
   "source": [
    "data['dom & intl'].value_counts()"
   ]
  },
  {
   "cell_type": "code",
   "execution_count": 41,
   "metadata": {},
   "outputs": [
    {
     "data": {
      "text/plain": [
       "0.8228136882129278"
      ]
     },
     "execution_count": 41,
     "metadata": {},
     "output_type": "execute_result"
    }
   ],
   "source": [
    "1082/1315"
   ]
  },
  {
   "cell_type": "code",
   "execution_count": 42,
   "metadata": {},
   "outputs": [
    {
     "data": {
      "text/plain": [
       "0.9095022624434389"
      ]
     },
     "execution_count": 42,
     "metadata": {},
     "output_type": "execute_result"
    }
   ],
   "source": [
    "603/663"
   ]
  },
  {
   "cell_type": "code",
   "execution_count": 43,
   "metadata": {},
   "outputs": [],
   "source": [
    "data['migration_score'] = data['Avg %Change in Intl Migration'] + data['Avg %Change in Domestic Migration']"
   ]
  },
  {
   "cell_type": "code",
   "execution_count": 44,
   "metadata": {},
   "outputs": [],
   "source": [
    "all_flight = data[data['dom & intl'] == 1].copy()"
   ]
  },
  {
   "cell_type": "code",
   "execution_count": 45,
   "metadata": {},
   "outputs": [
    {
     "data": {
      "text/plain": [
       "1    603\n",
       "0     60\n",
       "Name: trump_vote, dtype: int64"
      ]
     },
     "execution_count": 45,
     "metadata": {},
     "output_type": "execute_result"
    }
   ],
   "source": [
    "all_flight['trump_vote'].value_counts()"
   ]
  },
  {
   "cell_type": "code",
   "execution_count": 46,
   "metadata": {},
   "outputs": [
    {
     "data": {
      "text/plain": [
       "0.9095022624434389"
      ]
     },
     "execution_count": 46,
     "metadata": {},
     "output_type": "execute_result"
    }
   ],
   "source": [
    "603/(603+60)"
   ]
  },
  {
   "cell_type": "code",
   "execution_count": 47,
   "metadata": {},
   "outputs": [
    {
     "data": {
      "text/plain": [
       "663"
      ]
     },
     "execution_count": 47,
     "metadata": {},
     "output_type": "execute_result"
    }
   ],
   "source": [
    "len(all_flight)"
   ]
  },
  {
   "cell_type": "code",
   "execution_count": 48,
   "metadata": {
    "scrolled": true
   },
   "outputs": [
    {
     "data": {
      "image/png": "[encoded data removed]",
      "text/plain": [
       "<Figure size 432x288 with 1 Axes>"
      ]
     },
     "metadata": {
      "needs_background": "light"
     },
     "output_type": "display_data"
    }
   ],
   "source": [
    "axes = plt.gca()\n",
    "axes.set_xlim([-20, 0])\n",
    "axes.set_ylim([-1, 1])\n",
    "sns.scatterplot(x='migration_score', y='per_gap', hue='trump_vote', data=all_flight, \n",
    "                legend=False, palette='Reds')\n",
    "plt.xlabel('Migration Score')\n",
    "plt.ylabel('Trump\\'s Victory Margin in \\n Percentage of Votes')\n",
    "plt.title('Migration Score and Trump\\'s Victory Margin Share a \\n Negative Relationship in Counties with \\n Domestic and International Flight \\n')\n",
    "plt.show()"
   ]
  },
  {
   "cell_type": "markdown",
   "metadata": {},
   "source": [
    "### Replacement by Foreigners"
   ]
  },
  {
   "cell_type": "code",
   "execution_count": 49,
   "metadata": {},
   "outputs": [],
   "source": [
    "data['repl'] = np.where((data['Avg %Change in Domestic Migration'] < 0) & (data['Avg %Change in Intl Migration'] > 0),1,0)"
   ]
  },
  {
   "cell_type": "code",
   "execution_count": 50,
   "metadata": {},
   "outputs": [],
   "source": [
    "foreign_repl = data[data['repl'] == 1].copy()"
   ]
  },
  {
   "cell_type": "code",
   "execution_count": 51,
   "metadata": {},
   "outputs": [
    {
     "data": {
      "text/plain": [
       "1    1012\n",
       "0     228\n",
       "Name: trump_vote, dtype: int64"
      ]
     },
     "execution_count": 51,
     "metadata": {},
     "output_type": "execute_result"
    }
   ],
   "source": [
    "foreign_repl['trump_vote'].value_counts()"
   ]
  },
  {
   "cell_type": "code",
   "execution_count": 52,
   "metadata": {},
   "outputs": [
    {
     "data": {
      "text/plain": [
       "0.8161290322580645"
      ]
     },
     "execution_count": 52,
     "metadata": {},
     "output_type": "execute_result"
    }
   ],
   "source": [
    "1012/(1012+228)"
   ]
  },
  {
   "cell_type": "code",
   "execution_count": 53,
   "metadata": {},
   "outputs": [
    {
     "data": {
      "text/plain": [
       "1240"
      ]
     },
     "execution_count": 53,
     "metadata": {},
     "output_type": "execute_result"
    }
   ],
   "source": [
    "len(foreign_repl)"
   ]
  },
  {
   "cell_type": "code",
   "execution_count": 54,
   "metadata": {},
   "outputs": [
    {
     "data": {
      "image/png": "[encoded data removed]",
      "text/plain": [
       "<Figure size 432x288 with 1 Axes>"
      ]
     },
     "metadata": {
      "needs_background": "light"
     },
     "output_type": "display_data"
    }
   ],
   "source": [
    "axes = plt.gca()\n",
    "axes.set_xlim([-20, 0])\n",
    "axes.set_ylim([-1, 1])\n",
    "sns.scatterplot(x='migration_score', y='per_gap', hue='trump_vote', data=foreign_repl, \n",
    "                legend=False, palette='Reds')\n",
    "plt.xlabel('Migration Score')\n",
    "plt.ylabel('Trump\\'s Victory Margin in \\n Percentage of Votes')\n",
    "plt.title('Migration Score and Trump\\'s Victory Margin Share a \\n Negative Relationship in Counties \\n with Foreign Replacement \\n')\n",
    "plt.show()"
   ]
  },
  {
   "cell_type": "code",
   "execution_count": 55,
   "metadata": {},
   "outputs": [],
   "source": [
    "pd.set_option('display.max_columns', 100)"
   ]
  },
  {
   "cell_type": "code",
   "execution_count": 56,
   "metadata": {},
   "outputs": [
    {
     "data": {
      "text/html": [
       "<div>\n",
       "<style scoped>\n",
       "    .dataframe tbody tr th:only-of-type {\n",
       "        vertical-align: middle;\n",
       "    }\n",
       "\n",
       "    .dataframe tbody tr th {\n",
       "        vertical-align: top;\n",
       "    }\n",
       "\n",
       "    .dataframe thead th {\n",
       "        text-align: right;\n",
       "    }\n",
       "</style>\n",
       "<table border=\"1\" class=\"dataframe\">\n",
       "  <thead>\n",
       "    <tr style=\"text-align: right;\">\n",
       "      <th></th>\n",
       "      <th>Avg %Change in Domestic Migration</th>\n",
       "      <th>dom_flight</th>\n",
       "      <th>dom &amp; intl</th>\n",
       "      <th>dom only</th>\n",
       "      <th>per_dem</th>\n",
       "      <th>per_gop</th>\n",
       "      <th>diff</th>\n",
       "      <th>per_point_diff</th>\n",
       "      <th>county_name</th>\n",
       "      <th>state</th>\n",
       "      <th>trump_vote</th>\n",
       "      <th>per_gap</th>\n",
       "      <th>migration_score</th>\n",
       "      <th>repl</th>\n",
       "    </tr>\n",
       "  </thead>\n",
       "  <tbody>\n",
       "    <tr>\n",
       "      <th>0</th>\n",
       "      <td>-1.10927</td>\n",
       "      <td>1</td>\n",
       "      <td>0</td>\n",
       "      <td>1</td>\n",
       "      <td>0.239569</td>\n",
       "      <td>0.734358</td>\n",
       "      <td>12202</td>\n",
       "      <td>49.48</td>\n",
       "      <td>Autauga County</td>\n",
       "      <td>Alabama</td>\n",
       "      <td>1</td>\n",
       "      <td>0.494789</td>\n",
       "      <td>0.42372</td>\n",
       "      <td>1</td>\n",
       "    </tr>\n",
       "    <tr>\n",
       "      <th>1</th>\n",
       "      <td>-0.168591</td>\n",
       "      <td>1</td>\n",
       "      <td>1</td>\n",
       "      <td>0</td>\n",
       "      <td>0.195653</td>\n",
       "      <td>0.773515</td>\n",
       "      <td>54371</td>\n",
       "      <td>57.79</td>\n",
       "      <td>Baldwin County</td>\n",
       "      <td>Alabama</td>\n",
       "      <td>1</td>\n",
       "      <td>0.577862</td>\n",
       "      <td>-0.181615</td>\n",
       "      <td>0</td>\n",
       "    </tr>\n",
       "    <tr>\n",
       "      <th>2</th>\n",
       "      <td>-3.19652</td>\n",
       "      <td>1</td>\n",
       "      <td>0</td>\n",
       "      <td>1</td>\n",
       "      <td>0.466603</td>\n",
       "      <td>0.522714</td>\n",
       "      <td>583</td>\n",
       "      <td>5.61</td>\n",
       "      <td>Barbour County</td>\n",
       "      <td>Alabama</td>\n",
       "      <td>1</td>\n",
       "      <td>0.056112</td>\n",
       "      <td>-2.91061</td>\n",
       "      <td>1</td>\n",
       "    </tr>\n",
       "    <tr>\n",
       "      <th>3</th>\n",
       "      <td>-0.748287</td>\n",
       "      <td>1</td>\n",
       "      <td>0</td>\n",
       "      <td>1</td>\n",
       "      <td>0.214220</td>\n",
       "      <td>0.769662</td>\n",
       "      <td>4859</td>\n",
       "      <td>55.54</td>\n",
       "      <td>Bibb County</td>\n",
       "      <td>Alabama</td>\n",
       "      <td>1</td>\n",
       "      <td>0.555441</td>\n",
       "      <td>-0.547145</td>\n",
       "      <td>1</td>\n",
       "    </tr>\n",
       "    <tr>\n",
       "      <th>4</th>\n",
       "      <td>-1.00516</td>\n",
       "      <td>1</td>\n",
       "      <td>1</td>\n",
       "      <td>0</td>\n",
       "      <td>0.084699</td>\n",
       "      <td>0.898519</td>\n",
       "      <td>20658</td>\n",
       "      <td>81.38</td>\n",
       "      <td>Blount County</td>\n",
       "      <td>Alabama</td>\n",
       "      <td>1</td>\n",
       "      <td>0.813820</td>\n",
       "      <td>-1.32954</td>\n",
       "      <td>0</td>\n",
       "    </tr>\n",
       "  </tbody>\n",
       "</table>\n",
       "</div>"
      ],
      "text/plain": [
       "  Avg %Change in Domestic Migration  dom_flight  dom & intl  dom only  \\\n",
       "0                          -1.10927           1           0         1   \n",
       "1                         -0.168591           1           1         0   \n",
       "2                          -3.19652           1           0         1   \n",
       "3                         -0.748287           1           0         1   \n",
       "4                          -1.00516           1           1         0   \n",
       "\n",
       "    per_dem   per_gop   diff  per_point_diff     county_name    state  \\\n",
       "0  0.239569  0.734358  12202           49.48  Autauga County  Alabama   \n",
       "1  0.195653  0.773515  54371           57.79  Baldwin County  Alabama   \n",
       "2  0.466603  0.522714    583            5.61  Barbour County  Alabama   \n",
       "3  0.214220  0.769662   4859           55.54     Bibb County  Alabama   \n",
       "4  0.084699  0.898519  20658           81.38   Blount County  Alabama   \n",
       "\n",
       "   trump_vote   per_gap migration_score  repl  \n",
       "0           1  0.494789         0.42372     1  \n",
       "1           1  0.577862       -0.181615     0  \n",
       "2           1  0.056112        -2.91061     1  \n",
       "3           1  0.555441       -0.547145     1  \n",
       "4           1  0.813820        -1.32954     0  "
      ]
     },
     "execution_count": 56,
     "metadata": {},
     "output_type": "execute_result"
    }
   ],
   "source": [
    "data.iloc[:5,19:]"
   ]
  },
  {
   "cell_type": "markdown",
   "metadata": {},
   "source": [
    "## Modeling"
   ]
  },
  {
   "cell_type": "code",
   "execution_count": 57,
   "metadata": {},
   "outputs": [
    {
     "data": {
      "text/plain": [
       "3110"
      ]
     },
     "execution_count": 57,
     "metadata": {},
     "output_type": "execute_result"
    }
   ],
   "source": [
    "len(data)"
   ]
  },
  {
   "cell_type": "code",
   "execution_count": 58,
   "metadata": {
    "scrolled": true
   },
   "outputs": [],
   "source": [
    "data['Avg %Change in Intl Migration'] = np.where(data['Avg %Change in Intl Migration'].isnull(),0,data['Avg %Change in Intl Migration'])"
   ]
  },
  {
   "cell_type": "code",
   "execution_count": 59,
   "metadata": {
    "scrolled": true
   },
   "outputs": [],
   "source": [
    "data['Avg %Change in Intl Migration'] = data['Avg %Change in Intl Migration'].astype(float)\n",
    "data['Avg %Change in Domestic Migration'] = data['Avg %Change in Domestic Migration'].astype(float)\n",
    "data['Avg %Change in Natural Inc'] = data['Avg %Change in Natural Inc'].astype(float)"
   ]
  },
  {
   "cell_type": "code",
   "execution_count": 60,
   "metadata": {},
   "outputs": [],
   "source": [
    "dom_flight = data[data['dom_flight'] == 1].copy()"
   ]
  },
  {
   "cell_type": "code",
   "execution_count": 61,
   "metadata": {
    "scrolled": true
   },
   "outputs": [
    {
     "data": {
      "text/plain": [
       "Texas             153\n",
       "Georgia           108\n",
       "Virginia           94\n",
       "Missouri           72\n",
       "Kansas             70\n",
       "Kentucky           69\n",
       "Indiana            68\n",
       "Nebraska           68\n",
       "Tennessee          67\n",
       "North Carolina     57\n",
       "Name: STNAME, dtype: int64"
      ]
     },
     "execution_count": 61,
     "metadata": {},
     "output_type": "execute_result"
    }
   ],
   "source": [
    "dom_flight['STNAME'].value_counts()[:10]"
   ]
  },
  {
   "cell_type": "code",
   "execution_count": 62,
   "metadata": {},
   "outputs": [
    {
     "data": {
      "text/html": [
       "<div>\n",
       "<style scoped>\n",
       "    .dataframe tbody tr th:only-of-type {\n",
       "        vertical-align: middle;\n",
       "    }\n",
       "\n",
       "    .dataframe tbody tr th {\n",
       "        vertical-align: top;\n",
       "    }\n",
       "\n",
       "    .dataframe thead th {\n",
       "        text-align: right;\n",
       "    }\n",
       "</style>\n",
       "<table border=\"1\" class=\"dataframe\">\n",
       "  <thead>\n",
       "    <tr style=\"text-align: right;\">\n",
       "      <th></th>\n",
       "      <th>Avg %Change in Natural Inc</th>\n",
       "      <th>Avg %Change in Intl Migration</th>\n",
       "      <th>Avg %Change in Domestic Migration</th>\n",
       "      <th>dom_flight</th>\n",
       "      <th>dom &amp; intl</th>\n",
       "      <th>dom only</th>\n",
       "      <th>per_dem</th>\n",
       "      <th>per_gop</th>\n",
       "      <th>diff</th>\n",
       "      <th>per_point_diff</th>\n",
       "      <th>trump_vote</th>\n",
       "      <th>per_gap</th>\n",
       "      <th>repl</th>\n",
       "    </tr>\n",
       "  </thead>\n",
       "  <tbody>\n",
       "    <tr>\n",
       "      <th>Avg %Change in Natural Inc</th>\n",
       "      <td>1.000000</td>\n",
       "      <td>-0.004327</td>\n",
       "      <td>0.045257</td>\n",
       "      <td>NaN</td>\n",
       "      <td>-0.017890</td>\n",
       "      <td>0.020021</td>\n",
       "      <td>0.049244</td>\n",
       "      <td>-0.052668</td>\n",
       "      <td>0.005986</td>\n",
       "      <td>-0.040607</td>\n",
       "      <td>-0.046492</td>\n",
       "      <td>-0.051197</td>\n",
       "      <td>0.020021</td>\n",
       "    </tr>\n",
       "    <tr>\n",
       "      <th>Avg %Change in Intl Migration</th>\n",
       "      <td>-0.004327</td>\n",
       "      <td>1.000000</td>\n",
       "      <td>0.016047</td>\n",
       "      <td>NaN</td>\n",
       "      <td>-0.556679</td>\n",
       "      <td>0.545226</td>\n",
       "      <td>0.061754</td>\n",
       "      <td>-0.062066</td>\n",
       "      <td>0.010105</td>\n",
       "      <td>-0.074775</td>\n",
       "      <td>-0.033159</td>\n",
       "      <td>-0.062183</td>\n",
       "      <td>0.545226</td>\n",
       "    </tr>\n",
       "    <tr>\n",
       "      <th>Avg %Change in Domestic Migration</th>\n",
       "      <td>0.045257</td>\n",
       "      <td>0.016047</td>\n",
       "      <td>1.000000</td>\n",
       "      <td>NaN</td>\n",
       "      <td>-0.049483</td>\n",
       "      <td>0.040313</td>\n",
       "      <td>0.011468</td>\n",
       "      <td>-0.017952</td>\n",
       "      <td>0.026625</td>\n",
       "      <td>-0.011059</td>\n",
       "      <td>-0.007767</td>\n",
       "      <td>-0.014809</td>\n",
       "      <td>0.040313</td>\n",
       "    </tr>\n",
       "    <tr>\n",
       "      <th>dom_flight</th>\n",
       "      <td>NaN</td>\n",
       "      <td>NaN</td>\n",
       "      <td>NaN</td>\n",
       "      <td>NaN</td>\n",
       "      <td>NaN</td>\n",
       "      <td>NaN</td>\n",
       "      <td>NaN</td>\n",
       "      <td>NaN</td>\n",
       "      <td>NaN</td>\n",
       "      <td>NaN</td>\n",
       "      <td>NaN</td>\n",
       "      <td>NaN</td>\n",
       "      <td>NaN</td>\n",
       "    </tr>\n",
       "    <tr>\n",
       "      <th>dom &amp; intl</th>\n",
       "      <td>-0.017890</td>\n",
       "      <td>-0.556679</td>\n",
       "      <td>-0.049483</td>\n",
       "      <td>NaN</td>\n",
       "      <td>1.000000</td>\n",
       "      <td>-0.920400</td>\n",
       "      <td>-0.165185</td>\n",
       "      <td>0.175156</td>\n",
       "      <td>-0.099716</td>\n",
       "      <td>0.150178</td>\n",
       "      <td>0.115199</td>\n",
       "      <td>0.170970</td>\n",
       "      <td>-0.920400</td>\n",
       "    </tr>\n",
       "    <tr>\n",
       "      <th>dom only</th>\n",
       "      <td>0.020021</td>\n",
       "      <td>0.545226</td>\n",
       "      <td>0.040313</td>\n",
       "      <td>NaN</td>\n",
       "      <td>-0.920400</td>\n",
       "      <td>1.000000</td>\n",
       "      <td>0.219369</td>\n",
       "      <td>-0.231064</td>\n",
       "      <td>0.115100</td>\n",
       "      <td>-0.218592</td>\n",
       "      <td>-0.130421</td>\n",
       "      <td>-0.226266</td>\n",
       "      <td>1.000000</td>\n",
       "    </tr>\n",
       "    <tr>\n",
       "      <th>per_dem</th>\n",
       "      <td>0.049244</td>\n",
       "      <td>0.061754</td>\n",
       "      <td>0.011468</td>\n",
       "      <td>NaN</td>\n",
       "      <td>-0.165185</td>\n",
       "      <td>0.219369</td>\n",
       "      <td>1.000000</td>\n",
       "      <td>-0.982556</td>\n",
       "      <td>0.285671</td>\n",
       "      <td>-0.688309</td>\n",
       "      <td>-0.766876</td>\n",
       "      <td>-0.995537</td>\n",
       "      <td>0.219369</td>\n",
       "    </tr>\n",
       "    <tr>\n",
       "      <th>per_gop</th>\n",
       "      <td>-0.052668</td>\n",
       "      <td>-0.062066</td>\n",
       "      <td>-0.017952</td>\n",
       "      <td>NaN</td>\n",
       "      <td>0.175156</td>\n",
       "      <td>-0.231064</td>\n",
       "      <td>-0.982556</td>\n",
       "      <td>1.000000</td>\n",
       "      <td>-0.279222</td>\n",
       "      <td>0.710852</td>\n",
       "      <td>0.755770</td>\n",
       "      <td>0.995721</td>\n",
       "      <td>-0.231064</td>\n",
       "    </tr>\n",
       "    <tr>\n",
       "      <th>diff</th>\n",
       "      <td>0.005986</td>\n",
       "      <td>0.010105</td>\n",
       "      <td>0.026625</td>\n",
       "      <td>NaN</td>\n",
       "      <td>-0.099716</td>\n",
       "      <td>0.115100</td>\n",
       "      <td>0.285671</td>\n",
       "      <td>-0.279222</td>\n",
       "      <td>1.000000</td>\n",
       "      <td>0.016333</td>\n",
       "      <td>-0.257426</td>\n",
       "      <td>-0.283652</td>\n",
       "      <td>0.115100</td>\n",
       "    </tr>\n",
       "    <tr>\n",
       "      <th>per_point_diff</th>\n",
       "      <td>-0.040607</td>\n",
       "      <td>-0.074775</td>\n",
       "      <td>-0.011059</td>\n",
       "      <td>NaN</td>\n",
       "      <td>0.150178</td>\n",
       "      <td>-0.218592</td>\n",
       "      <td>-0.688309</td>\n",
       "      <td>0.710852</td>\n",
       "      <td>0.016333</td>\n",
       "      <td>1.000000</td>\n",
       "      <td>0.336070</td>\n",
       "      <td>0.702770</td>\n",
       "      <td>-0.218592</td>\n",
       "    </tr>\n",
       "    <tr>\n",
       "      <th>trump_vote</th>\n",
       "      <td>-0.046492</td>\n",
       "      <td>-0.033159</td>\n",
       "      <td>-0.007767</td>\n",
       "      <td>NaN</td>\n",
       "      <td>0.115199</td>\n",
       "      <td>-0.130421</td>\n",
       "      <td>-0.766876</td>\n",
       "      <td>0.755770</td>\n",
       "      <td>-0.257426</td>\n",
       "      <td>0.336070</td>\n",
       "      <td>1.000000</td>\n",
       "      <td>0.764606</td>\n",
       "      <td>-0.130421</td>\n",
       "    </tr>\n",
       "    <tr>\n",
       "      <th>per_gap</th>\n",
       "      <td>-0.051197</td>\n",
       "      <td>-0.062183</td>\n",
       "      <td>-0.014809</td>\n",
       "      <td>NaN</td>\n",
       "      <td>0.170970</td>\n",
       "      <td>-0.226266</td>\n",
       "      <td>-0.995537</td>\n",
       "      <td>0.995721</td>\n",
       "      <td>-0.283652</td>\n",
       "      <td>0.702770</td>\n",
       "      <td>0.764606</td>\n",
       "      <td>1.000000</td>\n",
       "      <td>-0.226266</td>\n",
       "    </tr>\n",
       "    <tr>\n",
       "      <th>repl</th>\n",
       "      <td>0.020021</td>\n",
       "      <td>0.545226</td>\n",
       "      <td>0.040313</td>\n",
       "      <td>NaN</td>\n",
       "      <td>-0.920400</td>\n",
       "      <td>1.000000</td>\n",
       "      <td>0.219369</td>\n",
       "      <td>-0.231064</td>\n",
       "      <td>0.115100</td>\n",
       "      <td>-0.218592</td>\n",
       "      <td>-0.130421</td>\n",
       "      <td>-0.226266</td>\n",
       "      <td>1.000000</td>\n",
       "    </tr>\n",
       "  </tbody>\n",
       "</table>\n",
       "</div>"
      ],
      "text/plain": [
       "                                   Avg %Change in Natural Inc  \\\n",
       "Avg %Change in Natural Inc                           1.000000   \n",
       "Avg %Change in Intl Migration                       -0.004327   \n",
       "Avg %Change in Domestic Migration                    0.045257   \n",
       "dom_flight                                                NaN   \n",
       "dom & intl                                          -0.017890   \n",
       "dom only                                             0.020021   \n",
       "per_dem                                              0.049244   \n",
       "per_gop                                             -0.052668   \n",
       "diff                                                 0.005986   \n",
       "per_point_diff                                      -0.040607   \n",
       "trump_vote                                          -0.046492   \n",
       "per_gap                                             -0.051197   \n",
       "repl                                                 0.020021   \n",
       "\n",
       "                                   Avg %Change in Intl Migration  \\\n",
       "Avg %Change in Natural Inc                             -0.004327   \n",
       "Avg %Change in Intl Migration                           1.000000   \n",
       "Avg %Change in Domestic Migration                       0.016047   \n",
       "dom_flight                                                   NaN   \n",
       "dom & intl                                             -0.556679   \n",
       "dom only                                                0.545226   \n",
       "per_dem                                                 0.061754   \n",
       "per_gop                                                -0.062066   \n",
       "diff                                                    0.010105   \n",
       "per_point_diff                                         -0.074775   \n",
       "trump_vote                                             -0.033159   \n",
       "per_gap                                                -0.062183   \n",
       "repl                                                    0.545226   \n",
       "\n",
       "                                   Avg %Change in Domestic Migration  \\\n",
       "Avg %Change in Natural Inc                                  0.045257   \n",
       "Avg %Change in Intl Migration                               0.016047   \n",
       "Avg %Change in Domestic Migration                           1.000000   \n",
       "dom_flight                                                       NaN   \n",
       "dom & intl                                                 -0.049483   \n",
       "dom only                                                    0.040313   \n",
       "per_dem                                                     0.011468   \n",
       "per_gop                                                    -0.017952   \n",
       "diff                                                        0.026625   \n",
       "per_point_diff                                             -0.011059   \n",
       "trump_vote                                                 -0.007767   \n",
       "per_gap                                                    -0.014809   \n",
       "repl                                                        0.040313   \n",
       "\n",
       "                                   dom_flight  dom & intl  dom only   per_dem  \\\n",
       "Avg %Change in Natural Inc                NaN   -0.017890  0.020021  0.049244   \n",
       "Avg %Change in Intl Migration             NaN   -0.556679  0.545226  0.061754   \n",
       "Avg %Change in Domestic Migration         NaN   -0.049483  0.040313  0.011468   \n",
       "dom_flight                                NaN         NaN       NaN       NaN   \n",
       "dom & intl                                NaN    1.000000 -0.920400 -0.165185   \n",
       "dom only                                  NaN   -0.920400  1.000000  0.219369   \n",
       "per_dem                                   NaN   -0.165185  0.219369  1.000000   \n",
       "per_gop                                   NaN    0.175156 -0.231064 -0.982556   \n",
       "diff                                      NaN   -0.099716  0.115100  0.285671   \n",
       "per_point_diff                            NaN    0.150178 -0.218592 -0.688309   \n",
       "trump_vote                                NaN    0.115199 -0.130421 -0.766876   \n",
       "per_gap                                   NaN    0.170970 -0.226266 -0.995537   \n",
       "repl                                      NaN   -0.920400  1.000000  0.219369   \n",
       "\n",
       "                                    per_gop      diff  per_point_diff  \\\n",
       "Avg %Change in Natural Inc        -0.052668  0.005986       -0.040607   \n",
       "Avg %Change in Intl Migration     -0.062066  0.010105       -0.074775   \n",
       "Avg %Change in Domestic Migration -0.017952  0.026625       -0.011059   \n",
       "dom_flight                              NaN       NaN             NaN   \n",
       "dom & intl                         0.175156 -0.099716        0.150178   \n",
       "dom only                          -0.231064  0.115100       -0.218592   \n",
       "per_dem                           -0.982556  0.285671       -0.688309   \n",
       "per_gop                            1.000000 -0.279222        0.710852   \n",
       "diff                              -0.279222  1.000000        0.016333   \n",
       "per_point_diff                     0.710852  0.016333        1.000000   \n",
       "trump_vote                         0.755770 -0.257426        0.336070   \n",
       "per_gap                            0.995721 -0.283652        0.702770   \n",
       "repl                              -0.231064  0.115100       -0.218592   \n",
       "\n",
       "                                   trump_vote   per_gap      repl  \n",
       "Avg %Change in Natural Inc          -0.046492 -0.051197  0.020021  \n",
       "Avg %Change in Intl Migration       -0.033159 -0.062183  0.545226  \n",
       "Avg %Change in Domestic Migration   -0.007767 -0.014809  0.040313  \n",
       "dom_flight                                NaN       NaN       NaN  \n",
       "dom & intl                           0.115199  0.170970 -0.920400  \n",
       "dom only                            -0.130421 -0.226266  1.000000  \n",
       "per_dem                             -0.766876 -0.995537  0.219369  \n",
       "per_gop                              0.755770  0.995721 -0.231064  \n",
       "diff                                -0.257426 -0.283652  0.115100  \n",
       "per_point_diff                       0.336070  0.702770 -0.218592  \n",
       "trump_vote                           1.000000  0.764606 -0.130421  \n",
       "per_gap                              0.764606  1.000000 -0.226266  \n",
       "repl                                -0.130421 -0.226266  1.000000  "
      ]
     },
     "execution_count": 62,
     "metadata": {},
     "output_type": "execute_result"
    }
   ],
   "source": [
    "dom_flight.corr()"
   ]
  },
  {
   "cell_type": "code",
   "execution_count": 63,
   "metadata": {},
   "outputs": [],
   "source": [
    "X = dom_flight[['Avg %Change in Natural Inc', 'Avg %Change in Intl Migration', 'Avg %Change in Domestic Migration', 'dom & intl', 'migration_score']].copy()\n",
    "\n"
   ]
  },
  {
   "cell_type": "code",
   "execution_count": 64,
   "metadata": {},
   "outputs": [],
   "source": [
    "X.rename(columns={\n",
    "        'Avg %Change in Natural Inc': 'rni',\n",
    "        'Avg %Change in Intl Migration': 'foreign_migration',\n",
    "        'Avg %Change in Domestic Migration': 'domestic_migration',\n",
    "        'dom & intl': 'flight'\n",
    "    }, inplace=True)"
   ]
  },
  {
   "cell_type": "code",
   "execution_count": 65,
   "metadata": {},
   "outputs": [
    {
     "data": {
      "text/html": [
       "<div>\n",
       "<style scoped>\n",
       "    .dataframe tbody tr th:only-of-type {\n",
       "        vertical-align: middle;\n",
       "    }\n",
       "\n",
       "    .dataframe tbody tr th {\n",
       "        vertical-align: top;\n",
       "    }\n",
       "\n",
       "    .dataframe thead th {\n",
       "        text-align: right;\n",
       "    }\n",
       "</style>\n",
       "<table border=\"1\" class=\"dataframe\">\n",
       "  <thead>\n",
       "    <tr style=\"text-align: right;\">\n",
       "      <th></th>\n",
       "      <th>rni</th>\n",
       "      <th>foreign_migration</th>\n",
       "      <th>domestic_migration</th>\n",
       "      <th>flight</th>\n",
       "      <th>migration_score</th>\n",
       "    </tr>\n",
       "  </thead>\n",
       "  <tbody>\n",
       "    <tr>\n",
       "      <th>0</th>\n",
       "      <td>-2.422855</td>\n",
       "      <td>1.532985</td>\n",
       "      <td>-1.109266</td>\n",
       "      <td>0</td>\n",
       "      <td>0.42372</td>\n",
       "    </tr>\n",
       "    <tr>\n",
       "      <th>1</th>\n",
       "      <td>-0.165911</td>\n",
       "      <td>-0.013024</td>\n",
       "      <td>-0.168591</td>\n",
       "      <td>1</td>\n",
       "      <td>-0.181615</td>\n",
       "    </tr>\n",
       "    <tr>\n",
       "      <th>2</th>\n",
       "      <td>0.196079</td>\n",
       "      <td>0.285912</td>\n",
       "      <td>-3.196521</td>\n",
       "      <td>0</td>\n",
       "      <td>-2.91061</td>\n",
       "    </tr>\n",
       "    <tr>\n",
       "      <th>3</th>\n",
       "      <td>-2.621169</td>\n",
       "      <td>0.201143</td>\n",
       "      <td>-0.748287</td>\n",
       "      <td>0</td>\n",
       "      <td>-0.547145</td>\n",
       "    </tr>\n",
       "    <tr>\n",
       "      <th>4</th>\n",
       "      <td>0.061965</td>\n",
       "      <td>-0.324386</td>\n",
       "      <td>-1.005157</td>\n",
       "      <td>1</td>\n",
       "      <td>-1.32954</td>\n",
       "    </tr>\n",
       "  </tbody>\n",
       "</table>\n",
       "</div>"
      ],
      "text/plain": [
       "        rni  foreign_migration  domestic_migration  flight migration_score\n",
       "0 -2.422855           1.532985           -1.109266       0         0.42372\n",
       "1 -0.165911          -0.013024           -0.168591       1       -0.181615\n",
       "2  0.196079           0.285912           -3.196521       0        -2.91061\n",
       "3 -2.621169           0.201143           -0.748287       0       -0.547145\n",
       "4  0.061965          -0.324386           -1.005157       1        -1.32954"
      ]
     },
     "execution_count": 65,
     "metadata": {},
     "output_type": "execute_result"
    }
   ],
   "source": [
    "X.head()"
   ]
  },
  {
   "cell_type": "code",
   "execution_count": 66,
   "metadata": {},
   "outputs": [],
   "source": [
    "X = X[['rni', 'foreign_migration', 'domestic_migration']].values"
   ]
  },
  {
   "cell_type": "code",
   "execution_count": 67,
   "metadata": {},
   "outputs": [
    {
     "data": {
      "text/plain": [
       "array([[-2.42285513,  1.53298541, -1.10926589],\n",
       "       [-0.16591071, -0.01302366, -0.16859101],\n",
       "       [ 0.19607851,  0.28591212, -3.19652103],\n",
       "       ...,\n",
       "       [-1.76268169,  0.80979836, -5.93486452],\n",
       "       [-0.00847951,  0.06345621, -0.30976379],\n",
       "       [-0.00847951,  0.06345621, -0.30976379]])"
      ]
     },
     "execution_count": 67,
     "metadata": {},
     "output_type": "execute_result"
    }
   ],
   "source": [
    "X"
   ]
  },
  {
   "cell_type": "code",
   "execution_count": 68,
   "metadata": {},
   "outputs": [],
   "source": [
    "y = dom_flight['trump_vote'].values\n",
    "# y = data['per_gap_multi'].values"
   ]
  },
  {
   "cell_type": "code",
   "execution_count": 69,
   "metadata": {},
   "outputs": [
    {
     "data": {
      "text/plain": [
       "array([1, 1, 1, ..., 1, 0, 0])"
      ]
     },
     "execution_count": 69,
     "metadata": {},
     "output_type": "execute_result"
    }
   ],
   "source": [
    "y"
   ]
  },
  {
   "cell_type": "code",
   "execution_count": 70,
   "metadata": {},
   "outputs": [
    {
     "data": {
      "text/plain": [
       "(1978, 1978)"
      ]
     },
     "execution_count": 70,
     "metadata": {},
     "output_type": "execute_result"
    }
   ],
   "source": [
    "len(X), len(y)"
   ]
  },
  {
   "cell_type": "markdown",
   "metadata": {},
   "source": [
    "### Baseline: Logistic Regression"
   ]
  },
  {
   "cell_type": "code",
   "execution_count": 71,
   "metadata": {},
   "outputs": [],
   "source": [
    "from sklearn.neighbors import KNeighborsClassifier as KNN\n",
    "from sklearn.model_selection import train_test_split\n",
    "from sklearn.linear_model import LogisticRegression\n",
    "from sklearn.metrics import accuracy_score, roc_curve, roc_auc_score"
   ]
  },
  {
   "cell_type": "code",
   "execution_count": 72,
   "metadata": {},
   "outputs": [],
   "source": [
    "X_train, X_test, y_train, y_test = train_test_split(X, y, test_size=.3, random_state=786)"
   ]
  },
  {
   "cell_type": "code",
   "execution_count": 73,
   "metadata": {},
   "outputs": [],
   "source": [
    "logreg = LogisticRegression()\n",
    "logreg = logreg.fit(X_train, y_train)"
   ]
  },
  {
   "cell_type": "code",
   "execution_count": 74,
   "metadata": {},
   "outputs": [
    {
     "data": {
      "text/plain": [
       "array([[-0.07907921, -0.17092285, -0.00136818]])"
      ]
     },
     "execution_count": 74,
     "metadata": {},
     "output_type": "execute_result"
    }
   ],
   "source": [
    "logreg.coef_"
   ]
  },
  {
   "cell_type": "code",
   "execution_count": 75,
   "metadata": {},
   "outputs": [],
   "source": [
    "logreg_y_pred = logreg.predict(X_test)"
   ]
  },
  {
   "cell_type": "code",
   "execution_count": 76,
   "metadata": {},
   "outputs": [
    {
     "data": {
      "text/plain": [
       "0.8518518518518519"
      ]
     },
     "execution_count": 76,
     "metadata": {},
     "output_type": "execute_result"
    }
   ],
   "source": [
    "accuracy_score(y_test, logreg_y_pred)"
   ]
  },
  {
   "cell_type": "code",
   "execution_count": 77,
   "metadata": {},
   "outputs": [
    {
     "data": {
      "text/plain": [
       "0.5"
      ]
     },
     "execution_count": 77,
     "metadata": {},
     "output_type": "execute_result"
    }
   ],
   "source": [
    "roc_auc_score(y_test, logreg_y_pred)"
   ]
  },
  {
   "cell_type": "code",
   "execution_count": 78,
   "metadata": {
    "scrolled": true
   },
   "outputs": [
    {
     "data": {
      "image/png": "[encoded data removed]",
      "text/plain": [
       "<Figure size 432x288 with 1 Axes>"
      ]
     },
     "metadata": {
      "needs_background": "light"
     },
     "output_type": "display_data"
    }
   ],
   "source": [
    "fpr, tpr, _ = roc_curve(y_test, logreg_y_pred)\n",
    "plt.plot(fpr, tpr)\n",
    "plt.xlabel('False Positive Rate')\n",
    "plt.ylabel('True Positive Rate')\n",
    "plt.title('ROC curve for Logistic Model')\n",
    "plt.legend(['AUC = 0.50'])\n",
    "plt.show()"
   ]
  },
  {
   "cell_type": "markdown",
   "metadata": {},
   "source": [
    "### KNN classification"
   ]
  },
  {
   "cell_type": "code",
   "execution_count": 79,
   "metadata": {},
   "outputs": [],
   "source": [
    "neighbors = KNN(n_neighbors=15)"
   ]
  },
  {
   "cell_type": "code",
   "execution_count": 80,
   "metadata": {},
   "outputs": [],
   "source": [
    "X_train, X_test, y_train, y_test = train_test_split(X, y, test_size=.3)"
   ]
  },
  {
   "cell_type": "code",
   "execution_count": 81,
   "metadata": {},
   "outputs": [
    {
     "data": {
      "text/plain": [
       "KNeighborsClassifier(algorithm='auto', leaf_size=30, metric='minkowski',\n",
       "                     metric_params=None, n_jobs=None, n_neighbors=15, p=2,\n",
       "                     weights='uniform')"
      ]
     },
     "execution_count": 81,
     "metadata": {},
     "output_type": "execute_result"
    }
   ],
   "source": [
    "neighbors.fit(X_train, y_train)"
   ]
  },
  {
   "cell_type": "code",
   "execution_count": 82,
   "metadata": {},
   "outputs": [],
   "source": [
    "knn_y_preds = neighbors.predict(X_test)"
   ]
  },
  {
   "cell_type": "code",
   "execution_count": 83,
   "metadata": {},
   "outputs": [
    {
     "data": {
      "text/plain": [
       "0.8636363636363636"
      ]
     },
     "execution_count": 83,
     "metadata": {},
     "output_type": "execute_result"
    }
   ],
   "source": [
    "accuracy_score(y_test, knn_y_preds)"
   ]
  },
  {
   "cell_type": "code",
   "execution_count": 84,
   "metadata": {},
   "outputs": [
    {
     "data": {
      "text/plain": [
       "0.5467836257309941"
      ]
     },
     "execution_count": 84,
     "metadata": {},
     "output_type": "execute_result"
    }
   ],
   "source": [
    "roc_auc_score(y_test, knn_y_preds)"
   ]
  },
  {
   "cell_type": "code",
   "execution_count": 85,
   "metadata": {},
   "outputs": [
    {
     "data": {
      "image/png": "[encoded data removed]",
      "text/plain": [
       "<Figure size 432x288 with 1 Axes>"
      ]
     },
     "metadata": {
      "needs_background": "light"
     },
     "output_type": "display_data"
    }
   ],
   "source": [
    "fpr, tpr, _ = roc_curve(y_test, knn_y_preds)\n",
    "plt.plot(fpr, tpr)\n",
    "plt.xlabel('False Positive Rate')\n",
    "plt.ylabel('True Positive Rate')\n",
    "plt.title('ROC curve for KNN Model')\n",
    "plt.legend(['AUC = 0.57'])\n",
    "plt.show()"
   ]
  },
  {
   "cell_type": "code",
   "execution_count": 92,
   "metadata": {},
   "outputs": [],
   "source": [
    "from sklearn.metrics import precision_score, recall_score"
   ]
  },
  {
   "cell_type": "code",
   "execution_count": 94,
   "metadata": {},
   "outputs": [
    {
     "data": {
      "text/plain": [
       "0.84375"
      ]
     },
     "execution_count": 94,
     "metadata": {},
     "output_type": "execute_result"
    }
   ],
   "source": [
    "# when it says it's a 1, is it a 1?\n",
    "precision_score(y_test, knn_y_preds)"
   ]
  },
  {
   "cell_type": "code",
   "execution_count": 95,
   "metadata": {},
   "outputs": [
    {
     "data": {
      "text/plain": [
       "0.9662027833001988"
      ]
     },
     "execution_count": 95,
     "metadata": {},
     "output_type": "execute_result"
    }
   ],
   "source": [
    "# how many of the 1's does it capture\n",
    "recall_score(y_test, knn_y_preds)"
   ]
  },
  {
   "cell_type": "code",
   "execution_count": 86,
   "metadata": {},
   "outputs": [],
   "source": [
    "scores = []\n",
    "\n",
    "for n in range(1,201):\n",
    "    neighbors = KNN(n_neighbors=n)\n",
    "    X_train, X_test, y_train, y_test = train_test_split(X, y, test_size=.3, random_state=5001)\n",
    "    neighbors.fit(X_train, y_train)\n",
    "    score = neighbors.score(X_test, y_test)\n",
    "    \n",
    "    scores.append([n, score])"
   ]
  },
  {
   "cell_type": "code",
   "execution_count": 87,
   "metadata": {
    "scrolled": true
   },
   "outputs": [],
   "source": [
    "scores = list(scores)"
   ]
  },
  {
   "cell_type": "code",
   "execution_count": 88,
   "metadata": {},
   "outputs": [],
   "source": [
    "scores = pd.Series([l[1] for l in scores])"
   ]
  },
  {
   "cell_type": "code",
   "execution_count": 89,
   "metadata": {},
   "outputs": [],
   "source": [
    "scores.index = scores.index + 1"
   ]
  },
  {
   "cell_type": "code",
   "execution_count": 90,
   "metadata": {
    "scrolled": true
   },
   "outputs": [
    {
     "data": {
      "text/plain": [
       "<matplotlib.axes._subplots.AxesSubplot at 0x1a22447ac8>"
      ]
     },
     "execution_count": 90,
     "metadata": {},
     "output_type": "execute_result"
    },
    {
     "data": {
      "image/png": "[encoded data removed]",
      "text/plain": [
       "<Figure size 432x288 with 1 Axes>"
      ]
     },
     "metadata": {
      "needs_background": "light"
     },
     "output_type": "display_data"
    }
   ],
   "source": [
    "axes = plt.gca()\n",
    "# axes.set_ylim([.6, .9])\n",
    "# axes.set_xlim([0, 50])\n",
    "scores.plot()"
   ]
  },
  {
   "cell_type": "code",
   "execution_count": 91,
   "metadata": {},
   "outputs": [
    {
     "data": {
      "text/plain": [
       "41    0.845118\n",
       "42    0.846801\n",
       "43    0.846801\n",
       "44    0.846801\n",
       "45    0.846801\n",
       "46    0.846801\n",
       "47    0.846801\n",
       "48    0.846801\n",
       "49    0.846801\n",
       "50    0.846801\n",
       "51    0.846801\n",
       "52    0.846801\n",
       "53    0.846801\n",
       "54    0.846801\n",
       "55    0.846801\n",
       "56    0.846801\n",
       "57    0.846801\n",
       "58    0.846801\n",
       "59    0.846801\n",
       "60    0.846801\n",
       "dtype: float64"
      ]
     },
     "execution_count": 91,
     "metadata": {},
     "output_type": "execute_result"
    }
   ],
   "source": [
    "scores[40:60]"
   ]
  },
  {
   "cell_type": "code",
   "execution_count": null,
   "metadata": {},
   "outputs": [],
   "source": []
  }
 ],
 "metadata": {
  "kernelspec": {
   "display_name": "Python 3",
   "language": "python",
   "name": "python3"
  },
  "language_info": {
   "codemirror_mode": {
    "name": "ipython",
    "version": 3
   },
   "file_extension": ".py",
   "mimetype": "text/x-python",
   "name": "python",
   "nbconvert_exporter": "python",
   "pygments_lexer": "ipython3",
   "version": "3.6.10"
  }
 },
 "nbformat": 4,
 "nbformat_minor": 4
}
